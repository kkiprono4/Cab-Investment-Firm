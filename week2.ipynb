{
  "nbformat": 4,
  "nbformat_minor": 0,
  "metadata": {
    "colab": {
      "name": "week2.ipynb",
      "provenance": [],
      "collapsed_sections": [],
      "authorship_tag": "ABX9TyN/AtTK/UJqtS7XB9386tRn",
      "include_colab_link": true
    },
    "kernelspec": {
      "name": "python3",
      "display_name": "Python 3"
    },
    "language_info": {
      "name": "python"
    }
  },
  "cells": [
    {
      "cell_type": "markdown",
      "metadata": {
        "id": "view-in-github",
        "colab_type": "text"
      },
      "source": [
        "<a href=\"https://colab.research.google.com/github/kkiprono4/Cab-Investment-Firm/blob/main/week2.ipynb\" target=\"_parent\"><img src=\"https://colab.research.google.com/assets/colab-badge.svg\" alt=\"Open In Colab\"/></a>"
      ]
    },
    {
      "cell_type": "code",
      "execution_count": 1,
      "metadata": {
        "id": "PZnU31IIqiKE"
      },
      "outputs": [],
      "source": [
        "# Import relevant libraries\n",
        "import pandas as pd\n",
        "import numpy as np\n",
        "import seaborn as sns\n",
        "import matplotlib.pyplot as plt"
      ]
    },
    {
      "cell_type": "code",
      "source": [
        "#loading our datasets\n",
        "cab = pd.read_csv(\"Cab_Data.csv\")\n",
        "city = pd.read_csv(\"City.csv\")\n",
        "customer = pd.read_csv(\"Customer_ID.csv\")\n",
        "transaction = pd.read_csv(\"Transaction_ID.csv\")"
      ],
      "metadata": {
        "id": "YF81rVlKsFIH"
      },
      "execution_count": 2,
      "outputs": []
    },
    {
      "cell_type": "code",
      "source": [
        "cab.head(10)"
      ],
      "metadata": {
        "colab": {
          "base_uri": "https://localhost:8080/",
          "height": 363
        },
        "id": "wIRsNp3lsuTQ",
        "outputId": "1681d080-6275-4527-c854-aa83d0af5ceb"
      },
      "execution_count": 3,
      "outputs": [
        {
          "output_type": "execute_result",
          "data": {
            "text/plain": [
              "   Transaction ID  Date of Travel   Company        City  KM Travelled  \\\n",
              "0        10000011           42377  Pink Cab  ATLANTA GA         30.45   \n",
              "1        10000012           42375  Pink Cab  ATLANTA GA         28.62   \n",
              "2        10000013           42371  Pink Cab  ATLANTA GA          9.04   \n",
              "3        10000014           42376  Pink Cab  ATLANTA GA         33.17   \n",
              "4        10000015           42372  Pink Cab  ATLANTA GA          8.73   \n",
              "5        10000016           42376  Pink Cab  ATLANTA GA          6.06   \n",
              "6        10000017           42372  Pink Cab   AUSTIN TX         44.00   \n",
              "7        10000018           42376  Pink Cab   AUSTIN TX         35.65   \n",
              "8        10000019           42381  Pink Cab   BOSTON MA         14.40   \n",
              "9        10000020           42375  Pink Cab   BOSTON MA         10.89   \n",
              "\n",
              "   Price Charged  Cost of Trip  \n",
              "0         370.95       313.635  \n",
              "1         358.52       334.854  \n",
              "2         125.20        97.632  \n",
              "3         377.40       351.602  \n",
              "4         114.62        97.776  \n",
              "5          72.43        63.024  \n",
              "6         576.15       475.200  \n",
              "7         466.10       377.890  \n",
              "8         191.61       146.880  \n",
              "9         156.98       113.256  "
            ],
            "text/html": [
              "\n",
              "  <div id=\"df-a5a274ef-d41b-4bce-8f61-dfd91ce99ab6\">\n",
              "    <div class=\"colab-df-container\">\n",
              "      <div>\n",
              "<style scoped>\n",
              "    .dataframe tbody tr th:only-of-type {\n",
              "        vertical-align: middle;\n",
              "    }\n",
              "\n",
              "    .dataframe tbody tr th {\n",
              "        vertical-align: top;\n",
              "    }\n",
              "\n",
              "    .dataframe thead th {\n",
              "        text-align: right;\n",
              "    }\n",
              "</style>\n",
              "<table border=\"1\" class=\"dataframe\">\n",
              "  <thead>\n",
              "    <tr style=\"text-align: right;\">\n",
              "      <th></th>\n",
              "      <th>Transaction ID</th>\n",
              "      <th>Date of Travel</th>\n",
              "      <th>Company</th>\n",
              "      <th>City</th>\n",
              "      <th>KM Travelled</th>\n",
              "      <th>Price Charged</th>\n",
              "      <th>Cost of Trip</th>\n",
              "    </tr>\n",
              "  </thead>\n",
              "  <tbody>\n",
              "    <tr>\n",
              "      <th>0</th>\n",
              "      <td>10000011</td>\n",
              "      <td>42377</td>\n",
              "      <td>Pink Cab</td>\n",
              "      <td>ATLANTA GA</td>\n",
              "      <td>30.45</td>\n",
              "      <td>370.95</td>\n",
              "      <td>313.635</td>\n",
              "    </tr>\n",
              "    <tr>\n",
              "      <th>1</th>\n",
              "      <td>10000012</td>\n",
              "      <td>42375</td>\n",
              "      <td>Pink Cab</td>\n",
              "      <td>ATLANTA GA</td>\n",
              "      <td>28.62</td>\n",
              "      <td>358.52</td>\n",
              "      <td>334.854</td>\n",
              "    </tr>\n",
              "    <tr>\n",
              "      <th>2</th>\n",
              "      <td>10000013</td>\n",
              "      <td>42371</td>\n",
              "      <td>Pink Cab</td>\n",
              "      <td>ATLANTA GA</td>\n",
              "      <td>9.04</td>\n",
              "      <td>125.20</td>\n",
              "      <td>97.632</td>\n",
              "    </tr>\n",
              "    <tr>\n",
              "      <th>3</th>\n",
              "      <td>10000014</td>\n",
              "      <td>42376</td>\n",
              "      <td>Pink Cab</td>\n",
              "      <td>ATLANTA GA</td>\n",
              "      <td>33.17</td>\n",
              "      <td>377.40</td>\n",
              "      <td>351.602</td>\n",
              "    </tr>\n",
              "    <tr>\n",
              "      <th>4</th>\n",
              "      <td>10000015</td>\n",
              "      <td>42372</td>\n",
              "      <td>Pink Cab</td>\n",
              "      <td>ATLANTA GA</td>\n",
              "      <td>8.73</td>\n",
              "      <td>114.62</td>\n",
              "      <td>97.776</td>\n",
              "    </tr>\n",
              "    <tr>\n",
              "      <th>5</th>\n",
              "      <td>10000016</td>\n",
              "      <td>42376</td>\n",
              "      <td>Pink Cab</td>\n",
              "      <td>ATLANTA GA</td>\n",
              "      <td>6.06</td>\n",
              "      <td>72.43</td>\n",
              "      <td>63.024</td>\n",
              "    </tr>\n",
              "    <tr>\n",
              "      <th>6</th>\n",
              "      <td>10000017</td>\n",
              "      <td>42372</td>\n",
              "      <td>Pink Cab</td>\n",
              "      <td>AUSTIN TX</td>\n",
              "      <td>44.00</td>\n",
              "      <td>576.15</td>\n",
              "      <td>475.200</td>\n",
              "    </tr>\n",
              "    <tr>\n",
              "      <th>7</th>\n",
              "      <td>10000018</td>\n",
              "      <td>42376</td>\n",
              "      <td>Pink Cab</td>\n",
              "      <td>AUSTIN TX</td>\n",
              "      <td>35.65</td>\n",
              "      <td>466.10</td>\n",
              "      <td>377.890</td>\n",
              "    </tr>\n",
              "    <tr>\n",
              "      <th>8</th>\n",
              "      <td>10000019</td>\n",
              "      <td>42381</td>\n",
              "      <td>Pink Cab</td>\n",
              "      <td>BOSTON MA</td>\n",
              "      <td>14.40</td>\n",
              "      <td>191.61</td>\n",
              "      <td>146.880</td>\n",
              "    </tr>\n",
              "    <tr>\n",
              "      <th>9</th>\n",
              "      <td>10000020</td>\n",
              "      <td>42375</td>\n",
              "      <td>Pink Cab</td>\n",
              "      <td>BOSTON MA</td>\n",
              "      <td>10.89</td>\n",
              "      <td>156.98</td>\n",
              "      <td>113.256</td>\n",
              "    </tr>\n",
              "  </tbody>\n",
              "</table>\n",
              "</div>\n",
              "      <button class=\"colab-df-convert\" onclick=\"convertToInteractive('df-a5a274ef-d41b-4bce-8f61-dfd91ce99ab6')\"\n",
              "              title=\"Convert this dataframe to an interactive table.\"\n",
              "              style=\"display:none;\">\n",
              "        \n",
              "  <svg xmlns=\"http://www.w3.org/2000/svg\" height=\"24px\"viewBox=\"0 0 24 24\"\n",
              "       width=\"24px\">\n",
              "    <path d=\"M0 0h24v24H0V0z\" fill=\"none\"/>\n",
              "    <path d=\"M18.56 5.44l.94 2.06.94-2.06 2.06-.94-2.06-.94-.94-2.06-.94 2.06-2.06.94zm-11 1L8.5 8.5l.94-2.06 2.06-.94-2.06-.94L8.5 2.5l-.94 2.06-2.06.94zm10 10l.94 2.06.94-2.06 2.06-.94-2.06-.94-.94-2.06-.94 2.06-2.06.94z\"/><path d=\"M17.41 7.96l-1.37-1.37c-.4-.4-.92-.59-1.43-.59-.52 0-1.04.2-1.43.59L10.3 9.45l-7.72 7.72c-.78.78-.78 2.05 0 2.83L4 21.41c.39.39.9.59 1.41.59.51 0 1.02-.2 1.41-.59l7.78-7.78 2.81-2.81c.8-.78.8-2.07 0-2.86zM5.41 20L4 18.59l7.72-7.72 1.47 1.35L5.41 20z\"/>\n",
              "  </svg>\n",
              "      </button>\n",
              "      \n",
              "  <style>\n",
              "    .colab-df-container {\n",
              "      display:flex;\n",
              "      flex-wrap:wrap;\n",
              "      gap: 12px;\n",
              "    }\n",
              "\n",
              "    .colab-df-convert {\n",
              "      background-color: #E8F0FE;\n",
              "      border: none;\n",
              "      border-radius: 50%;\n",
              "      cursor: pointer;\n",
              "      display: none;\n",
              "      fill: #1967D2;\n",
              "      height: 32px;\n",
              "      padding: 0 0 0 0;\n",
              "      width: 32px;\n",
              "    }\n",
              "\n",
              "    .colab-df-convert:hover {\n",
              "      background-color: #E2EBFA;\n",
              "      box-shadow: 0px 1px 2px rgba(60, 64, 67, 0.3), 0px 1px 3px 1px rgba(60, 64, 67, 0.15);\n",
              "      fill: #174EA6;\n",
              "    }\n",
              "\n",
              "    [theme=dark] .colab-df-convert {\n",
              "      background-color: #3B4455;\n",
              "      fill: #D2E3FC;\n",
              "    }\n",
              "\n",
              "    [theme=dark] .colab-df-convert:hover {\n",
              "      background-color: #434B5C;\n",
              "      box-shadow: 0px 1px 3px 1px rgba(0, 0, 0, 0.15);\n",
              "      filter: drop-shadow(0px 1px 2px rgba(0, 0, 0, 0.3));\n",
              "      fill: #FFFFFF;\n",
              "    }\n",
              "  </style>\n",
              "\n",
              "      <script>\n",
              "        const buttonEl =\n",
              "          document.querySelector('#df-a5a274ef-d41b-4bce-8f61-dfd91ce99ab6 button.colab-df-convert');\n",
              "        buttonEl.style.display =\n",
              "          google.colab.kernel.accessAllowed ? 'block' : 'none';\n",
              "\n",
              "        async function convertToInteractive(key) {\n",
              "          const element = document.querySelector('#df-a5a274ef-d41b-4bce-8f61-dfd91ce99ab6');\n",
              "          const dataTable =\n",
              "            await google.colab.kernel.invokeFunction('convertToInteractive',\n",
              "                                                     [key], {});\n",
              "          if (!dataTable) return;\n",
              "\n",
              "          const docLinkHtml = 'Like what you see? Visit the ' +\n",
              "            '<a target=\"_blank\" href=https://colab.research.google.com/notebooks/data_table.ipynb>data table notebook</a>'\n",
              "            + ' to learn more about interactive tables.';\n",
              "          element.innerHTML = '';\n",
              "          dataTable['output_type'] = 'display_data';\n",
              "          await google.colab.output.renderOutput(dataTable, element);\n",
              "          const docLink = document.createElement('div');\n",
              "          docLink.innerHTML = docLinkHtml;\n",
              "          element.appendChild(docLink);\n",
              "        }\n",
              "      </script>\n",
              "    </div>\n",
              "  </div>\n",
              "  "
            ]
          },
          "metadata": {},
          "execution_count": 3
        }
      ]
    },
    {
      "cell_type": "code",
      "source": [
        "cab.shape"
      ],
      "metadata": {
        "colab": {
          "base_uri": "https://localhost:8080/"
        },
        "id": "Qk3JyWDo2XKA",
        "outputId": "b272e0c1-517f-4622-9be4-fb63ea68011a"
      },
      "execution_count": 4,
      "outputs": [
        {
          "output_type": "execute_result",
          "data": {
            "text/plain": [
              "(359392, 7)"
            ]
          },
          "metadata": {},
          "execution_count": 4
        }
      ]
    },
    {
      "cell_type": "code",
      "source": [
        "city.head(10)"
      ],
      "metadata": {
        "colab": {
          "base_uri": "https://localhost:8080/",
          "height": 363
        },
        "id": "ghhNbleTtpPX",
        "outputId": "f20dbae7-378c-439f-ce68-32c9798ce0ac"
      },
      "execution_count": 5,
      "outputs": [
        {
          "output_type": "execute_result",
          "data": {
            "text/plain": [
              "             City   Population      Users\n",
              "0     NEW YORK NY   8,405,837    302,149 \n",
              "1      CHICAGO IL   1,955,130    164,468 \n",
              "2  LOS ANGELES CA   1,595,037    144,132 \n",
              "3        MIAMI FL   1,339,155     17,675 \n",
              "4  SILICON VALLEY   1,177,609     27,247 \n",
              "5   ORANGE COUNTY   1,030,185     12,994 \n",
              "6    SAN DIEGO CA     959,307     69,995 \n",
              "7      PHOENIX AZ     943,999      6,133 \n",
              "8       DALLAS TX     942,908     22,157 \n",
              "9      ATLANTA GA     814,885     24,701 "
            ],
            "text/html": [
              "\n",
              "  <div id=\"df-8bcd43c3-9195-4746-a230-9b6edac699d8\">\n",
              "    <div class=\"colab-df-container\">\n",
              "      <div>\n",
              "<style scoped>\n",
              "    .dataframe tbody tr th:only-of-type {\n",
              "        vertical-align: middle;\n",
              "    }\n",
              "\n",
              "    .dataframe tbody tr th {\n",
              "        vertical-align: top;\n",
              "    }\n",
              "\n",
              "    .dataframe thead th {\n",
              "        text-align: right;\n",
              "    }\n",
              "</style>\n",
              "<table border=\"1\" class=\"dataframe\">\n",
              "  <thead>\n",
              "    <tr style=\"text-align: right;\">\n",
              "      <th></th>\n",
              "      <th>City</th>\n",
              "      <th>Population</th>\n",
              "      <th>Users</th>\n",
              "    </tr>\n",
              "  </thead>\n",
              "  <tbody>\n",
              "    <tr>\n",
              "      <th>0</th>\n",
              "      <td>NEW YORK NY</td>\n",
              "      <td>8,405,837</td>\n",
              "      <td>302,149</td>\n",
              "    </tr>\n",
              "    <tr>\n",
              "      <th>1</th>\n",
              "      <td>CHICAGO IL</td>\n",
              "      <td>1,955,130</td>\n",
              "      <td>164,468</td>\n",
              "    </tr>\n",
              "    <tr>\n",
              "      <th>2</th>\n",
              "      <td>LOS ANGELES CA</td>\n",
              "      <td>1,595,037</td>\n",
              "      <td>144,132</td>\n",
              "    </tr>\n",
              "    <tr>\n",
              "      <th>3</th>\n",
              "      <td>MIAMI FL</td>\n",
              "      <td>1,339,155</td>\n",
              "      <td>17,675</td>\n",
              "    </tr>\n",
              "    <tr>\n",
              "      <th>4</th>\n",
              "      <td>SILICON VALLEY</td>\n",
              "      <td>1,177,609</td>\n",
              "      <td>27,247</td>\n",
              "    </tr>\n",
              "    <tr>\n",
              "      <th>5</th>\n",
              "      <td>ORANGE COUNTY</td>\n",
              "      <td>1,030,185</td>\n",
              "      <td>12,994</td>\n",
              "    </tr>\n",
              "    <tr>\n",
              "      <th>6</th>\n",
              "      <td>SAN DIEGO CA</td>\n",
              "      <td>959,307</td>\n",
              "      <td>69,995</td>\n",
              "    </tr>\n",
              "    <tr>\n",
              "      <th>7</th>\n",
              "      <td>PHOENIX AZ</td>\n",
              "      <td>943,999</td>\n",
              "      <td>6,133</td>\n",
              "    </tr>\n",
              "    <tr>\n",
              "      <th>8</th>\n",
              "      <td>DALLAS TX</td>\n",
              "      <td>942,908</td>\n",
              "      <td>22,157</td>\n",
              "    </tr>\n",
              "    <tr>\n",
              "      <th>9</th>\n",
              "      <td>ATLANTA GA</td>\n",
              "      <td>814,885</td>\n",
              "      <td>24,701</td>\n",
              "    </tr>\n",
              "  </tbody>\n",
              "</table>\n",
              "</div>\n",
              "      <button class=\"colab-df-convert\" onclick=\"convertToInteractive('df-8bcd43c3-9195-4746-a230-9b6edac699d8')\"\n",
              "              title=\"Convert this dataframe to an interactive table.\"\n",
              "              style=\"display:none;\">\n",
              "        \n",
              "  <svg xmlns=\"http://www.w3.org/2000/svg\" height=\"24px\"viewBox=\"0 0 24 24\"\n",
              "       width=\"24px\">\n",
              "    <path d=\"M0 0h24v24H0V0z\" fill=\"none\"/>\n",
              "    <path d=\"M18.56 5.44l.94 2.06.94-2.06 2.06-.94-2.06-.94-.94-2.06-.94 2.06-2.06.94zm-11 1L8.5 8.5l.94-2.06 2.06-.94-2.06-.94L8.5 2.5l-.94 2.06-2.06.94zm10 10l.94 2.06.94-2.06 2.06-.94-2.06-.94-.94-2.06-.94 2.06-2.06.94z\"/><path d=\"M17.41 7.96l-1.37-1.37c-.4-.4-.92-.59-1.43-.59-.52 0-1.04.2-1.43.59L10.3 9.45l-7.72 7.72c-.78.78-.78 2.05 0 2.83L4 21.41c.39.39.9.59 1.41.59.51 0 1.02-.2 1.41-.59l7.78-7.78 2.81-2.81c.8-.78.8-2.07 0-2.86zM5.41 20L4 18.59l7.72-7.72 1.47 1.35L5.41 20z\"/>\n",
              "  </svg>\n",
              "      </button>\n",
              "      \n",
              "  <style>\n",
              "    .colab-df-container {\n",
              "      display:flex;\n",
              "      flex-wrap:wrap;\n",
              "      gap: 12px;\n",
              "    }\n",
              "\n",
              "    .colab-df-convert {\n",
              "      background-color: #E8F0FE;\n",
              "      border: none;\n",
              "      border-radius: 50%;\n",
              "      cursor: pointer;\n",
              "      display: none;\n",
              "      fill: #1967D2;\n",
              "      height: 32px;\n",
              "      padding: 0 0 0 0;\n",
              "      width: 32px;\n",
              "    }\n",
              "\n",
              "    .colab-df-convert:hover {\n",
              "      background-color: #E2EBFA;\n",
              "      box-shadow: 0px 1px 2px rgba(60, 64, 67, 0.3), 0px 1px 3px 1px rgba(60, 64, 67, 0.15);\n",
              "      fill: #174EA6;\n",
              "    }\n",
              "\n",
              "    [theme=dark] .colab-df-convert {\n",
              "      background-color: #3B4455;\n",
              "      fill: #D2E3FC;\n",
              "    }\n",
              "\n",
              "    [theme=dark] .colab-df-convert:hover {\n",
              "      background-color: #434B5C;\n",
              "      box-shadow: 0px 1px 3px 1px rgba(0, 0, 0, 0.15);\n",
              "      filter: drop-shadow(0px 1px 2px rgba(0, 0, 0, 0.3));\n",
              "      fill: #FFFFFF;\n",
              "    }\n",
              "  </style>\n",
              "\n",
              "      <script>\n",
              "        const buttonEl =\n",
              "          document.querySelector('#df-8bcd43c3-9195-4746-a230-9b6edac699d8 button.colab-df-convert');\n",
              "        buttonEl.style.display =\n",
              "          google.colab.kernel.accessAllowed ? 'block' : 'none';\n",
              "\n",
              "        async function convertToInteractive(key) {\n",
              "          const element = document.querySelector('#df-8bcd43c3-9195-4746-a230-9b6edac699d8');\n",
              "          const dataTable =\n",
              "            await google.colab.kernel.invokeFunction('convertToInteractive',\n",
              "                                                     [key], {});\n",
              "          if (!dataTable) return;\n",
              "\n",
              "          const docLinkHtml = 'Like what you see? Visit the ' +\n",
              "            '<a target=\"_blank\" href=https://colab.research.google.com/notebooks/data_table.ipynb>data table notebook</a>'\n",
              "            + ' to learn more about interactive tables.';\n",
              "          element.innerHTML = '';\n",
              "          dataTable['output_type'] = 'display_data';\n",
              "          await google.colab.output.renderOutput(dataTable, element);\n",
              "          const docLink = document.createElement('div');\n",
              "          docLink.innerHTML = docLinkHtml;\n",
              "          element.appendChild(docLink);\n",
              "        }\n",
              "      </script>\n",
              "    </div>\n",
              "  </div>\n",
              "  "
            ]
          },
          "metadata": {},
          "execution_count": 5
        }
      ]
    },
    {
      "cell_type": "code",
      "source": [
        "city.shape"
      ],
      "metadata": {
        "colab": {
          "base_uri": "https://localhost:8080/"
        },
        "id": "9Dbi3K6E2dXy",
        "outputId": "fac83065-3d94-4ee6-c0fb-97689e2a3478"
      },
      "execution_count": 6,
      "outputs": [
        {
          "output_type": "execute_result",
          "data": {
            "text/plain": [
              "(20, 3)"
            ]
          },
          "metadata": {},
          "execution_count": 6
        }
      ]
    },
    {
      "cell_type": "code",
      "source": [
        "customer.head(10)"
      ],
      "metadata": {
        "colab": {
          "base_uri": "https://localhost:8080/",
          "height": 363
        },
        "id": "BWeaJhIvt2nH",
        "outputId": "bdf3dd75-0281-4506-f33c-a25387858fba"
      },
      "execution_count": 7,
      "outputs": [
        {
          "output_type": "execute_result",
          "data": {
            "text/plain": [
              "   Customer ID Gender  Age  Income (USD/Month)\n",
              "0        29290   Male   28               10813\n",
              "1        27703   Male   27                9237\n",
              "2        28712   Male   53               11242\n",
              "3        28020   Male   23               23327\n",
              "4        27182   Male   33                8536\n",
              "5        27318   Male   25               13984\n",
              "6        33788   Male   23               23788\n",
              "7        34106   Male   19               19980\n",
              "8        59799   Male   33               19271\n",
              "9        57982   Male   57                5068"
            ],
            "text/html": [
              "\n",
              "  <div id=\"df-0d86e4e1-5894-42ac-8cb5-91c8ebef3c4a\">\n",
              "    <div class=\"colab-df-container\">\n",
              "      <div>\n",
              "<style scoped>\n",
              "    .dataframe tbody tr th:only-of-type {\n",
              "        vertical-align: middle;\n",
              "    }\n",
              "\n",
              "    .dataframe tbody tr th {\n",
              "        vertical-align: top;\n",
              "    }\n",
              "\n",
              "    .dataframe thead th {\n",
              "        text-align: right;\n",
              "    }\n",
              "</style>\n",
              "<table border=\"1\" class=\"dataframe\">\n",
              "  <thead>\n",
              "    <tr style=\"text-align: right;\">\n",
              "      <th></th>\n",
              "      <th>Customer ID</th>\n",
              "      <th>Gender</th>\n",
              "      <th>Age</th>\n",
              "      <th>Income (USD/Month)</th>\n",
              "    </tr>\n",
              "  </thead>\n",
              "  <tbody>\n",
              "    <tr>\n",
              "      <th>0</th>\n",
              "      <td>29290</td>\n",
              "      <td>Male</td>\n",
              "      <td>28</td>\n",
              "      <td>10813</td>\n",
              "    </tr>\n",
              "    <tr>\n",
              "      <th>1</th>\n",
              "      <td>27703</td>\n",
              "      <td>Male</td>\n",
              "      <td>27</td>\n",
              "      <td>9237</td>\n",
              "    </tr>\n",
              "    <tr>\n",
              "      <th>2</th>\n",
              "      <td>28712</td>\n",
              "      <td>Male</td>\n",
              "      <td>53</td>\n",
              "      <td>11242</td>\n",
              "    </tr>\n",
              "    <tr>\n",
              "      <th>3</th>\n",
              "      <td>28020</td>\n",
              "      <td>Male</td>\n",
              "      <td>23</td>\n",
              "      <td>23327</td>\n",
              "    </tr>\n",
              "    <tr>\n",
              "      <th>4</th>\n",
              "      <td>27182</td>\n",
              "      <td>Male</td>\n",
              "      <td>33</td>\n",
              "      <td>8536</td>\n",
              "    </tr>\n",
              "    <tr>\n",
              "      <th>5</th>\n",
              "      <td>27318</td>\n",
              "      <td>Male</td>\n",
              "      <td>25</td>\n",
              "      <td>13984</td>\n",
              "    </tr>\n",
              "    <tr>\n",
              "      <th>6</th>\n",
              "      <td>33788</td>\n",
              "      <td>Male</td>\n",
              "      <td>23</td>\n",
              "      <td>23788</td>\n",
              "    </tr>\n",
              "    <tr>\n",
              "      <th>7</th>\n",
              "      <td>34106</td>\n",
              "      <td>Male</td>\n",
              "      <td>19</td>\n",
              "      <td>19980</td>\n",
              "    </tr>\n",
              "    <tr>\n",
              "      <th>8</th>\n",
              "      <td>59799</td>\n",
              "      <td>Male</td>\n",
              "      <td>33</td>\n",
              "      <td>19271</td>\n",
              "    </tr>\n",
              "    <tr>\n",
              "      <th>9</th>\n",
              "      <td>57982</td>\n",
              "      <td>Male</td>\n",
              "      <td>57</td>\n",
              "      <td>5068</td>\n",
              "    </tr>\n",
              "  </tbody>\n",
              "</table>\n",
              "</div>\n",
              "      <button class=\"colab-df-convert\" onclick=\"convertToInteractive('df-0d86e4e1-5894-42ac-8cb5-91c8ebef3c4a')\"\n",
              "              title=\"Convert this dataframe to an interactive table.\"\n",
              "              style=\"display:none;\">\n",
              "        \n",
              "  <svg xmlns=\"http://www.w3.org/2000/svg\" height=\"24px\"viewBox=\"0 0 24 24\"\n",
              "       width=\"24px\">\n",
              "    <path d=\"M0 0h24v24H0V0z\" fill=\"none\"/>\n",
              "    <path d=\"M18.56 5.44l.94 2.06.94-2.06 2.06-.94-2.06-.94-.94-2.06-.94 2.06-2.06.94zm-11 1L8.5 8.5l.94-2.06 2.06-.94-2.06-.94L8.5 2.5l-.94 2.06-2.06.94zm10 10l.94 2.06.94-2.06 2.06-.94-2.06-.94-.94-2.06-.94 2.06-2.06.94z\"/><path d=\"M17.41 7.96l-1.37-1.37c-.4-.4-.92-.59-1.43-.59-.52 0-1.04.2-1.43.59L10.3 9.45l-7.72 7.72c-.78.78-.78 2.05 0 2.83L4 21.41c.39.39.9.59 1.41.59.51 0 1.02-.2 1.41-.59l7.78-7.78 2.81-2.81c.8-.78.8-2.07 0-2.86zM5.41 20L4 18.59l7.72-7.72 1.47 1.35L5.41 20z\"/>\n",
              "  </svg>\n",
              "      </button>\n",
              "      \n",
              "  <style>\n",
              "    .colab-df-container {\n",
              "      display:flex;\n",
              "      flex-wrap:wrap;\n",
              "      gap: 12px;\n",
              "    }\n",
              "\n",
              "    .colab-df-convert {\n",
              "      background-color: #E8F0FE;\n",
              "      border: none;\n",
              "      border-radius: 50%;\n",
              "      cursor: pointer;\n",
              "      display: none;\n",
              "      fill: #1967D2;\n",
              "      height: 32px;\n",
              "      padding: 0 0 0 0;\n",
              "      width: 32px;\n",
              "    }\n",
              "\n",
              "    .colab-df-convert:hover {\n",
              "      background-color: #E2EBFA;\n",
              "      box-shadow: 0px 1px 2px rgba(60, 64, 67, 0.3), 0px 1px 3px 1px rgba(60, 64, 67, 0.15);\n",
              "      fill: #174EA6;\n",
              "    }\n",
              "\n",
              "    [theme=dark] .colab-df-convert {\n",
              "      background-color: #3B4455;\n",
              "      fill: #D2E3FC;\n",
              "    }\n",
              "\n",
              "    [theme=dark] .colab-df-convert:hover {\n",
              "      background-color: #434B5C;\n",
              "      box-shadow: 0px 1px 3px 1px rgba(0, 0, 0, 0.15);\n",
              "      filter: drop-shadow(0px 1px 2px rgba(0, 0, 0, 0.3));\n",
              "      fill: #FFFFFF;\n",
              "    }\n",
              "  </style>\n",
              "\n",
              "      <script>\n",
              "        const buttonEl =\n",
              "          document.querySelector('#df-0d86e4e1-5894-42ac-8cb5-91c8ebef3c4a button.colab-df-convert');\n",
              "        buttonEl.style.display =\n",
              "          google.colab.kernel.accessAllowed ? 'block' : 'none';\n",
              "\n",
              "        async function convertToInteractive(key) {\n",
              "          const element = document.querySelector('#df-0d86e4e1-5894-42ac-8cb5-91c8ebef3c4a');\n",
              "          const dataTable =\n",
              "            await google.colab.kernel.invokeFunction('convertToInteractive',\n",
              "                                                     [key], {});\n",
              "          if (!dataTable) return;\n",
              "\n",
              "          const docLinkHtml = 'Like what you see? Visit the ' +\n",
              "            '<a target=\"_blank\" href=https://colab.research.google.com/notebooks/data_table.ipynb>data table notebook</a>'\n",
              "            + ' to learn more about interactive tables.';\n",
              "          element.innerHTML = '';\n",
              "          dataTable['output_type'] = 'display_data';\n",
              "          await google.colab.output.renderOutput(dataTable, element);\n",
              "          const docLink = document.createElement('div');\n",
              "          docLink.innerHTML = docLinkHtml;\n",
              "          element.appendChild(docLink);\n",
              "        }\n",
              "      </script>\n",
              "    </div>\n",
              "  </div>\n",
              "  "
            ]
          },
          "metadata": {},
          "execution_count": 7
        }
      ]
    },
    {
      "cell_type": "code",
      "source": [
        "customer.shape"
      ],
      "metadata": {
        "colab": {
          "base_uri": "https://localhost:8080/"
        },
        "id": "OKDfCEL41hMV",
        "outputId": "2cf53b01-baf2-4eb5-f3d4-c2b1dcb709df"
      },
      "execution_count": 8,
      "outputs": [
        {
          "output_type": "execute_result",
          "data": {
            "text/plain": [
              "(49171, 4)"
            ]
          },
          "metadata": {},
          "execution_count": 8
        }
      ]
    },
    {
      "cell_type": "code",
      "source": [
        "transaction.head(10)"
      ],
      "metadata": {
        "colab": {
          "base_uri": "https://localhost:8080/",
          "height": 363
        },
        "id": "hDv-dwuWuDlj",
        "outputId": "63a859c3-2673-4ee4-839c-accd1c495d85"
      },
      "execution_count": 9,
      "outputs": [
        {
          "output_type": "execute_result",
          "data": {
            "text/plain": [
              "   Transaction ID  Customer ID Payment_Mode\n",
              "0        10000011        29290         Card\n",
              "1        10000012        27703         Card\n",
              "2        10000013        28712         Cash\n",
              "3        10000014        28020         Cash\n",
              "4        10000015        27182         Card\n",
              "5        10000016        27318         Cash\n",
              "6        10000017        33788         Card\n",
              "7        10000018        34106         Card\n",
              "8        10000019        59799         Cash\n",
              "9        10000020        57982         Cash"
            ],
            "text/html": [
              "\n",
              "  <div id=\"df-347b5c91-aaf5-4213-9070-9b7753fa8375\">\n",
              "    <div class=\"colab-df-container\">\n",
              "      <div>\n",
              "<style scoped>\n",
              "    .dataframe tbody tr th:only-of-type {\n",
              "        vertical-align: middle;\n",
              "    }\n",
              "\n",
              "    .dataframe tbody tr th {\n",
              "        vertical-align: top;\n",
              "    }\n",
              "\n",
              "    .dataframe thead th {\n",
              "        text-align: right;\n",
              "    }\n",
              "</style>\n",
              "<table border=\"1\" class=\"dataframe\">\n",
              "  <thead>\n",
              "    <tr style=\"text-align: right;\">\n",
              "      <th></th>\n",
              "      <th>Transaction ID</th>\n",
              "      <th>Customer ID</th>\n",
              "      <th>Payment_Mode</th>\n",
              "    </tr>\n",
              "  </thead>\n",
              "  <tbody>\n",
              "    <tr>\n",
              "      <th>0</th>\n",
              "      <td>10000011</td>\n",
              "      <td>29290</td>\n",
              "      <td>Card</td>\n",
              "    </tr>\n",
              "    <tr>\n",
              "      <th>1</th>\n",
              "      <td>10000012</td>\n",
              "      <td>27703</td>\n",
              "      <td>Card</td>\n",
              "    </tr>\n",
              "    <tr>\n",
              "      <th>2</th>\n",
              "      <td>10000013</td>\n",
              "      <td>28712</td>\n",
              "      <td>Cash</td>\n",
              "    </tr>\n",
              "    <tr>\n",
              "      <th>3</th>\n",
              "      <td>10000014</td>\n",
              "      <td>28020</td>\n",
              "      <td>Cash</td>\n",
              "    </tr>\n",
              "    <tr>\n",
              "      <th>4</th>\n",
              "      <td>10000015</td>\n",
              "      <td>27182</td>\n",
              "      <td>Card</td>\n",
              "    </tr>\n",
              "    <tr>\n",
              "      <th>5</th>\n",
              "      <td>10000016</td>\n",
              "      <td>27318</td>\n",
              "      <td>Cash</td>\n",
              "    </tr>\n",
              "    <tr>\n",
              "      <th>6</th>\n",
              "      <td>10000017</td>\n",
              "      <td>33788</td>\n",
              "      <td>Card</td>\n",
              "    </tr>\n",
              "    <tr>\n",
              "      <th>7</th>\n",
              "      <td>10000018</td>\n",
              "      <td>34106</td>\n",
              "      <td>Card</td>\n",
              "    </tr>\n",
              "    <tr>\n",
              "      <th>8</th>\n",
              "      <td>10000019</td>\n",
              "      <td>59799</td>\n",
              "      <td>Cash</td>\n",
              "    </tr>\n",
              "    <tr>\n",
              "      <th>9</th>\n",
              "      <td>10000020</td>\n",
              "      <td>57982</td>\n",
              "      <td>Cash</td>\n",
              "    </tr>\n",
              "  </tbody>\n",
              "</table>\n",
              "</div>\n",
              "      <button class=\"colab-df-convert\" onclick=\"convertToInteractive('df-347b5c91-aaf5-4213-9070-9b7753fa8375')\"\n",
              "              title=\"Convert this dataframe to an interactive table.\"\n",
              "              style=\"display:none;\">\n",
              "        \n",
              "  <svg xmlns=\"http://www.w3.org/2000/svg\" height=\"24px\"viewBox=\"0 0 24 24\"\n",
              "       width=\"24px\">\n",
              "    <path d=\"M0 0h24v24H0V0z\" fill=\"none\"/>\n",
              "    <path d=\"M18.56 5.44l.94 2.06.94-2.06 2.06-.94-2.06-.94-.94-2.06-.94 2.06-2.06.94zm-11 1L8.5 8.5l.94-2.06 2.06-.94-2.06-.94L8.5 2.5l-.94 2.06-2.06.94zm10 10l.94 2.06.94-2.06 2.06-.94-2.06-.94-.94-2.06-.94 2.06-2.06.94z\"/><path d=\"M17.41 7.96l-1.37-1.37c-.4-.4-.92-.59-1.43-.59-.52 0-1.04.2-1.43.59L10.3 9.45l-7.72 7.72c-.78.78-.78 2.05 0 2.83L4 21.41c.39.39.9.59 1.41.59.51 0 1.02-.2 1.41-.59l7.78-7.78 2.81-2.81c.8-.78.8-2.07 0-2.86zM5.41 20L4 18.59l7.72-7.72 1.47 1.35L5.41 20z\"/>\n",
              "  </svg>\n",
              "      </button>\n",
              "      \n",
              "  <style>\n",
              "    .colab-df-container {\n",
              "      display:flex;\n",
              "      flex-wrap:wrap;\n",
              "      gap: 12px;\n",
              "    }\n",
              "\n",
              "    .colab-df-convert {\n",
              "      background-color: #E8F0FE;\n",
              "      border: none;\n",
              "      border-radius: 50%;\n",
              "      cursor: pointer;\n",
              "      display: none;\n",
              "      fill: #1967D2;\n",
              "      height: 32px;\n",
              "      padding: 0 0 0 0;\n",
              "      width: 32px;\n",
              "    }\n",
              "\n",
              "    .colab-df-convert:hover {\n",
              "      background-color: #E2EBFA;\n",
              "      box-shadow: 0px 1px 2px rgba(60, 64, 67, 0.3), 0px 1px 3px 1px rgba(60, 64, 67, 0.15);\n",
              "      fill: #174EA6;\n",
              "    }\n",
              "\n",
              "    [theme=dark] .colab-df-convert {\n",
              "      background-color: #3B4455;\n",
              "      fill: #D2E3FC;\n",
              "    }\n",
              "\n",
              "    [theme=dark] .colab-df-convert:hover {\n",
              "      background-color: #434B5C;\n",
              "      box-shadow: 0px 1px 3px 1px rgba(0, 0, 0, 0.15);\n",
              "      filter: drop-shadow(0px 1px 2px rgba(0, 0, 0, 0.3));\n",
              "      fill: #FFFFFF;\n",
              "    }\n",
              "  </style>\n",
              "\n",
              "      <script>\n",
              "        const buttonEl =\n",
              "          document.querySelector('#df-347b5c91-aaf5-4213-9070-9b7753fa8375 button.colab-df-convert');\n",
              "        buttonEl.style.display =\n",
              "          google.colab.kernel.accessAllowed ? 'block' : 'none';\n",
              "\n",
              "        async function convertToInteractive(key) {\n",
              "          const element = document.querySelector('#df-347b5c91-aaf5-4213-9070-9b7753fa8375');\n",
              "          const dataTable =\n",
              "            await google.colab.kernel.invokeFunction('convertToInteractive',\n",
              "                                                     [key], {});\n",
              "          if (!dataTable) return;\n",
              "\n",
              "          const docLinkHtml = 'Like what you see? Visit the ' +\n",
              "            '<a target=\"_blank\" href=https://colab.research.google.com/notebooks/data_table.ipynb>data table notebook</a>'\n",
              "            + ' to learn more about interactive tables.';\n",
              "          element.innerHTML = '';\n",
              "          dataTable['output_type'] = 'display_data';\n",
              "          await google.colab.output.renderOutput(dataTable, element);\n",
              "          const docLink = document.createElement('div');\n",
              "          docLink.innerHTML = docLinkHtml;\n",
              "          element.appendChild(docLink);\n",
              "        }\n",
              "      </script>\n",
              "    </div>\n",
              "  </div>\n",
              "  "
            ]
          },
          "metadata": {},
          "execution_count": 9
        }
      ]
    },
    {
      "cell_type": "code",
      "source": [
        "transaction.shape"
      ],
      "metadata": {
        "colab": {
          "base_uri": "https://localhost:8080/"
        },
        "id": "12nQbcEG1n9S",
        "outputId": "3ad8220d-5638-49ee-ab79-5f3fda268038"
      },
      "execution_count": 10,
      "outputs": [
        {
          "output_type": "execute_result",
          "data": {
            "text/plain": [
              "(440098, 3)"
            ]
          },
          "metadata": {},
          "execution_count": 10
        }
      ]
    },
    {
      "cell_type": "code",
      "source": [
        "df_merge = pd.merge(transaction, customer, how='left')\n",
        "\n",
        "df_merge"
      ],
      "metadata": {
        "colab": {
          "base_uri": "https://localhost:8080/",
          "height": 423
        },
        "id": "F9o-7F1314Kp",
        "outputId": "3c42212b-03e9-49af-de31-9a952fb4591b"
      },
      "execution_count": 11,
      "outputs": [
        {
          "output_type": "execute_result",
          "data": {
            "text/plain": [
              "        Transaction ID  Customer ID Payment_Mode Gender  Age  \\\n",
              "0             10000011        29290         Card   Male   28   \n",
              "1             10000012        27703         Card   Male   27   \n",
              "2             10000013        28712         Cash   Male   53   \n",
              "3             10000014        28020         Cash   Male   23   \n",
              "4             10000015        27182         Card   Male   33   \n",
              "...                ...          ...          ...    ...  ...   \n",
              "440093        10440104        53286         Cash   Male   32   \n",
              "440094        10440105        52265         Cash   Male   56   \n",
              "440095        10440106        52175         Card   Male   32   \n",
              "440096        10440107        52917         Card   Male   20   \n",
              "440097        10440108        51587         Card   Male   39   \n",
              "\n",
              "        Income (USD/Month)  \n",
              "0                    10813  \n",
              "1                     9237  \n",
              "2                    11242  \n",
              "3                    23327  \n",
              "4                     8536  \n",
              "...                    ...  \n",
              "440093                6528  \n",
              "440094                7966  \n",
              "440095                6423  \n",
              "440096               11284  \n",
              "440097               23470  \n",
              "\n",
              "[440098 rows x 6 columns]"
            ],
            "text/html": [
              "\n",
              "  <div id=\"df-9d3d8f85-d4d3-44d1-bd78-c4148158dd3e\">\n",
              "    <div class=\"colab-df-container\">\n",
              "      <div>\n",
              "<style scoped>\n",
              "    .dataframe tbody tr th:only-of-type {\n",
              "        vertical-align: middle;\n",
              "    }\n",
              "\n",
              "    .dataframe tbody tr th {\n",
              "        vertical-align: top;\n",
              "    }\n",
              "\n",
              "    .dataframe thead th {\n",
              "        text-align: right;\n",
              "    }\n",
              "</style>\n",
              "<table border=\"1\" class=\"dataframe\">\n",
              "  <thead>\n",
              "    <tr style=\"text-align: right;\">\n",
              "      <th></th>\n",
              "      <th>Transaction ID</th>\n",
              "      <th>Customer ID</th>\n",
              "      <th>Payment_Mode</th>\n",
              "      <th>Gender</th>\n",
              "      <th>Age</th>\n",
              "      <th>Income (USD/Month)</th>\n",
              "    </tr>\n",
              "  </thead>\n",
              "  <tbody>\n",
              "    <tr>\n",
              "      <th>0</th>\n",
              "      <td>10000011</td>\n",
              "      <td>29290</td>\n",
              "      <td>Card</td>\n",
              "      <td>Male</td>\n",
              "      <td>28</td>\n",
              "      <td>10813</td>\n",
              "    </tr>\n",
              "    <tr>\n",
              "      <th>1</th>\n",
              "      <td>10000012</td>\n",
              "      <td>27703</td>\n",
              "      <td>Card</td>\n",
              "      <td>Male</td>\n",
              "      <td>27</td>\n",
              "      <td>9237</td>\n",
              "    </tr>\n",
              "    <tr>\n",
              "      <th>2</th>\n",
              "      <td>10000013</td>\n",
              "      <td>28712</td>\n",
              "      <td>Cash</td>\n",
              "      <td>Male</td>\n",
              "      <td>53</td>\n",
              "      <td>11242</td>\n",
              "    </tr>\n",
              "    <tr>\n",
              "      <th>3</th>\n",
              "      <td>10000014</td>\n",
              "      <td>28020</td>\n",
              "      <td>Cash</td>\n",
              "      <td>Male</td>\n",
              "      <td>23</td>\n",
              "      <td>23327</td>\n",
              "    </tr>\n",
              "    <tr>\n",
              "      <th>4</th>\n",
              "      <td>10000015</td>\n",
              "      <td>27182</td>\n",
              "      <td>Card</td>\n",
              "      <td>Male</td>\n",
              "      <td>33</td>\n",
              "      <td>8536</td>\n",
              "    </tr>\n",
              "    <tr>\n",
              "      <th>...</th>\n",
              "      <td>...</td>\n",
              "      <td>...</td>\n",
              "      <td>...</td>\n",
              "      <td>...</td>\n",
              "      <td>...</td>\n",
              "      <td>...</td>\n",
              "    </tr>\n",
              "    <tr>\n",
              "      <th>440093</th>\n",
              "      <td>10440104</td>\n",
              "      <td>53286</td>\n",
              "      <td>Cash</td>\n",
              "      <td>Male</td>\n",
              "      <td>32</td>\n",
              "      <td>6528</td>\n",
              "    </tr>\n",
              "    <tr>\n",
              "      <th>440094</th>\n",
              "      <td>10440105</td>\n",
              "      <td>52265</td>\n",
              "      <td>Cash</td>\n",
              "      <td>Male</td>\n",
              "      <td>56</td>\n",
              "      <td>7966</td>\n",
              "    </tr>\n",
              "    <tr>\n",
              "      <th>440095</th>\n",
              "      <td>10440106</td>\n",
              "      <td>52175</td>\n",
              "      <td>Card</td>\n",
              "      <td>Male</td>\n",
              "      <td>32</td>\n",
              "      <td>6423</td>\n",
              "    </tr>\n",
              "    <tr>\n",
              "      <th>440096</th>\n",
              "      <td>10440107</td>\n",
              "      <td>52917</td>\n",
              "      <td>Card</td>\n",
              "      <td>Male</td>\n",
              "      <td>20</td>\n",
              "      <td>11284</td>\n",
              "    </tr>\n",
              "    <tr>\n",
              "      <th>440097</th>\n",
              "      <td>10440108</td>\n",
              "      <td>51587</td>\n",
              "      <td>Card</td>\n",
              "      <td>Male</td>\n",
              "      <td>39</td>\n",
              "      <td>23470</td>\n",
              "    </tr>\n",
              "  </tbody>\n",
              "</table>\n",
              "<p>440098 rows × 6 columns</p>\n",
              "</div>\n",
              "      <button class=\"colab-df-convert\" onclick=\"convertToInteractive('df-9d3d8f85-d4d3-44d1-bd78-c4148158dd3e')\"\n",
              "              title=\"Convert this dataframe to an interactive table.\"\n",
              "              style=\"display:none;\">\n",
              "        \n",
              "  <svg xmlns=\"http://www.w3.org/2000/svg\" height=\"24px\"viewBox=\"0 0 24 24\"\n",
              "       width=\"24px\">\n",
              "    <path d=\"M0 0h24v24H0V0z\" fill=\"none\"/>\n",
              "    <path d=\"M18.56 5.44l.94 2.06.94-2.06 2.06-.94-2.06-.94-.94-2.06-.94 2.06-2.06.94zm-11 1L8.5 8.5l.94-2.06 2.06-.94-2.06-.94L8.5 2.5l-.94 2.06-2.06.94zm10 10l.94 2.06.94-2.06 2.06-.94-2.06-.94-.94-2.06-.94 2.06-2.06.94z\"/><path d=\"M17.41 7.96l-1.37-1.37c-.4-.4-.92-.59-1.43-.59-.52 0-1.04.2-1.43.59L10.3 9.45l-7.72 7.72c-.78.78-.78 2.05 0 2.83L4 21.41c.39.39.9.59 1.41.59.51 0 1.02-.2 1.41-.59l7.78-7.78 2.81-2.81c.8-.78.8-2.07 0-2.86zM5.41 20L4 18.59l7.72-7.72 1.47 1.35L5.41 20z\"/>\n",
              "  </svg>\n",
              "      </button>\n",
              "      \n",
              "  <style>\n",
              "    .colab-df-container {\n",
              "      display:flex;\n",
              "      flex-wrap:wrap;\n",
              "      gap: 12px;\n",
              "    }\n",
              "\n",
              "    .colab-df-convert {\n",
              "      background-color: #E8F0FE;\n",
              "      border: none;\n",
              "      border-radius: 50%;\n",
              "      cursor: pointer;\n",
              "      display: none;\n",
              "      fill: #1967D2;\n",
              "      height: 32px;\n",
              "      padding: 0 0 0 0;\n",
              "      width: 32px;\n",
              "    }\n",
              "\n",
              "    .colab-df-convert:hover {\n",
              "      background-color: #E2EBFA;\n",
              "      box-shadow: 0px 1px 2px rgba(60, 64, 67, 0.3), 0px 1px 3px 1px rgba(60, 64, 67, 0.15);\n",
              "      fill: #174EA6;\n",
              "    }\n",
              "\n",
              "    [theme=dark] .colab-df-convert {\n",
              "      background-color: #3B4455;\n",
              "      fill: #D2E3FC;\n",
              "    }\n",
              "\n",
              "    [theme=dark] .colab-df-convert:hover {\n",
              "      background-color: #434B5C;\n",
              "      box-shadow: 0px 1px 3px 1px rgba(0, 0, 0, 0.15);\n",
              "      filter: drop-shadow(0px 1px 2px rgba(0, 0, 0, 0.3));\n",
              "      fill: #FFFFFF;\n",
              "    }\n",
              "  </style>\n",
              "\n",
              "      <script>\n",
              "        const buttonEl =\n",
              "          document.querySelector('#df-9d3d8f85-d4d3-44d1-bd78-c4148158dd3e button.colab-df-convert');\n",
              "        buttonEl.style.display =\n",
              "          google.colab.kernel.accessAllowed ? 'block' : 'none';\n",
              "\n",
              "        async function convertToInteractive(key) {\n",
              "          const element = document.querySelector('#df-9d3d8f85-d4d3-44d1-bd78-c4148158dd3e');\n",
              "          const dataTable =\n",
              "            await google.colab.kernel.invokeFunction('convertToInteractive',\n",
              "                                                     [key], {});\n",
              "          if (!dataTable) return;\n",
              "\n",
              "          const docLinkHtml = 'Like what you see? Visit the ' +\n",
              "            '<a target=\"_blank\" href=https://colab.research.google.com/notebooks/data_table.ipynb>data table notebook</a>'\n",
              "            + ' to learn more about interactive tables.';\n",
              "          element.innerHTML = '';\n",
              "          dataTable['output_type'] = 'display_data';\n",
              "          await google.colab.output.renderOutput(dataTable, element);\n",
              "          const docLink = document.createElement('div');\n",
              "          docLink.innerHTML = docLinkHtml;\n",
              "          element.appendChild(docLink);\n",
              "        }\n",
              "      </script>\n",
              "    </div>\n",
              "  </div>\n",
              "  "
            ]
          },
          "metadata": {},
          "execution_count": 11
        }
      ]
    },
    {
      "cell_type": "code",
      "source": [
        "df1_merge = pd.merge(cab, city, how='left')\n",
        "\n",
        "df1_merge"
      ],
      "metadata": {
        "colab": {
          "base_uri": "https://localhost:8080/",
          "height": 571
        },
        "id": "gTBMP7Ph2s1t",
        "outputId": "fa0d1ec6-06ba-44b9-d8da-b43657e276e1"
      },
      "execution_count": 12,
      "outputs": [
        {
          "output_type": "execute_result",
          "data": {
            "text/plain": [
              "        Transaction ID  Date of Travel     Company           City  \\\n",
              "0             10000011           42377    Pink Cab     ATLANTA GA   \n",
              "1             10000012           42375    Pink Cab     ATLANTA GA   \n",
              "2             10000013           42371    Pink Cab     ATLANTA GA   \n",
              "3             10000014           42376    Pink Cab     ATLANTA GA   \n",
              "4             10000015           42372    Pink Cab     ATLANTA GA   \n",
              "...                ...             ...         ...            ...   \n",
              "359387        10440101           43108  Yellow Cab  WASHINGTON DC   \n",
              "359388        10440104           43104  Yellow Cab  WASHINGTON DC   \n",
              "359389        10440105           43105  Yellow Cab  WASHINGTON DC   \n",
              "359390        10440106           43105  Yellow Cab  WASHINGTON DC   \n",
              "359391        10440107           43102  Yellow Cab  WASHINGTON DC   \n",
              "\n",
              "        KM Travelled  Price Charged  Cost of Trip Population      Users  \n",
              "0              30.45         370.95      313.6350   814,885     24,701   \n",
              "1              28.62         358.52      334.8540   814,885     24,701   \n",
              "2               9.04         125.20       97.6320   814,885     24,701   \n",
              "3              33.17         377.40      351.6020   814,885     24,701   \n",
              "4               8.73         114.62       97.7760   814,885     24,701   \n",
              "...              ...            ...           ...        ...        ...  \n",
              "359387          4.80          69.24       63.3600   418,859    127,001   \n",
              "359388          8.40         113.75      106.8480   418,859    127,001   \n",
              "359389         27.75         437.07      349.6500   418,859    127,001   \n",
              "359390          8.80         146.19      114.0480   418,859    127,001   \n",
              "359391         12.76         191.58      177.6192   418,859    127,001   \n",
              "\n",
              "[359392 rows x 9 columns]"
            ],
            "text/html": [
              "\n",
              "  <div id=\"df-eafbacc6-8bbb-4485-94c5-de27947bfc77\">\n",
              "    <div class=\"colab-df-container\">\n",
              "      <div>\n",
              "<style scoped>\n",
              "    .dataframe tbody tr th:only-of-type {\n",
              "        vertical-align: middle;\n",
              "    }\n",
              "\n",
              "    .dataframe tbody tr th {\n",
              "        vertical-align: top;\n",
              "    }\n",
              "\n",
              "    .dataframe thead th {\n",
              "        text-align: right;\n",
              "    }\n",
              "</style>\n",
              "<table border=\"1\" class=\"dataframe\">\n",
              "  <thead>\n",
              "    <tr style=\"text-align: right;\">\n",
              "      <th></th>\n",
              "      <th>Transaction ID</th>\n",
              "      <th>Date of Travel</th>\n",
              "      <th>Company</th>\n",
              "      <th>City</th>\n",
              "      <th>KM Travelled</th>\n",
              "      <th>Price Charged</th>\n",
              "      <th>Cost of Trip</th>\n",
              "      <th>Population</th>\n",
              "      <th>Users</th>\n",
              "    </tr>\n",
              "  </thead>\n",
              "  <tbody>\n",
              "    <tr>\n",
              "      <th>0</th>\n",
              "      <td>10000011</td>\n",
              "      <td>42377</td>\n",
              "      <td>Pink Cab</td>\n",
              "      <td>ATLANTA GA</td>\n",
              "      <td>30.45</td>\n",
              "      <td>370.95</td>\n",
              "      <td>313.6350</td>\n",
              "      <td>814,885</td>\n",
              "      <td>24,701</td>\n",
              "    </tr>\n",
              "    <tr>\n",
              "      <th>1</th>\n",
              "      <td>10000012</td>\n",
              "      <td>42375</td>\n",
              "      <td>Pink Cab</td>\n",
              "      <td>ATLANTA GA</td>\n",
              "      <td>28.62</td>\n",
              "      <td>358.52</td>\n",
              "      <td>334.8540</td>\n",
              "      <td>814,885</td>\n",
              "      <td>24,701</td>\n",
              "    </tr>\n",
              "    <tr>\n",
              "      <th>2</th>\n",
              "      <td>10000013</td>\n",
              "      <td>42371</td>\n",
              "      <td>Pink Cab</td>\n",
              "      <td>ATLANTA GA</td>\n",
              "      <td>9.04</td>\n",
              "      <td>125.20</td>\n",
              "      <td>97.6320</td>\n",
              "      <td>814,885</td>\n",
              "      <td>24,701</td>\n",
              "    </tr>\n",
              "    <tr>\n",
              "      <th>3</th>\n",
              "      <td>10000014</td>\n",
              "      <td>42376</td>\n",
              "      <td>Pink Cab</td>\n",
              "      <td>ATLANTA GA</td>\n",
              "      <td>33.17</td>\n",
              "      <td>377.40</td>\n",
              "      <td>351.6020</td>\n",
              "      <td>814,885</td>\n",
              "      <td>24,701</td>\n",
              "    </tr>\n",
              "    <tr>\n",
              "      <th>4</th>\n",
              "      <td>10000015</td>\n",
              "      <td>42372</td>\n",
              "      <td>Pink Cab</td>\n",
              "      <td>ATLANTA GA</td>\n",
              "      <td>8.73</td>\n",
              "      <td>114.62</td>\n",
              "      <td>97.7760</td>\n",
              "      <td>814,885</td>\n",
              "      <td>24,701</td>\n",
              "    </tr>\n",
              "    <tr>\n",
              "      <th>...</th>\n",
              "      <td>...</td>\n",
              "      <td>...</td>\n",
              "      <td>...</td>\n",
              "      <td>...</td>\n",
              "      <td>...</td>\n",
              "      <td>...</td>\n",
              "      <td>...</td>\n",
              "      <td>...</td>\n",
              "      <td>...</td>\n",
              "    </tr>\n",
              "    <tr>\n",
              "      <th>359387</th>\n",
              "      <td>10440101</td>\n",
              "      <td>43108</td>\n",
              "      <td>Yellow Cab</td>\n",
              "      <td>WASHINGTON DC</td>\n",
              "      <td>4.80</td>\n",
              "      <td>69.24</td>\n",
              "      <td>63.3600</td>\n",
              "      <td>418,859</td>\n",
              "      <td>127,001</td>\n",
              "    </tr>\n",
              "    <tr>\n",
              "      <th>359388</th>\n",
              "      <td>10440104</td>\n",
              "      <td>43104</td>\n",
              "      <td>Yellow Cab</td>\n",
              "      <td>WASHINGTON DC</td>\n",
              "      <td>8.40</td>\n",
              "      <td>113.75</td>\n",
              "      <td>106.8480</td>\n",
              "      <td>418,859</td>\n",
              "      <td>127,001</td>\n",
              "    </tr>\n",
              "    <tr>\n",
              "      <th>359389</th>\n",
              "      <td>10440105</td>\n",
              "      <td>43105</td>\n",
              "      <td>Yellow Cab</td>\n",
              "      <td>WASHINGTON DC</td>\n",
              "      <td>27.75</td>\n",
              "      <td>437.07</td>\n",
              "      <td>349.6500</td>\n",
              "      <td>418,859</td>\n",
              "      <td>127,001</td>\n",
              "    </tr>\n",
              "    <tr>\n",
              "      <th>359390</th>\n",
              "      <td>10440106</td>\n",
              "      <td>43105</td>\n",
              "      <td>Yellow Cab</td>\n",
              "      <td>WASHINGTON DC</td>\n",
              "      <td>8.80</td>\n",
              "      <td>146.19</td>\n",
              "      <td>114.0480</td>\n",
              "      <td>418,859</td>\n",
              "      <td>127,001</td>\n",
              "    </tr>\n",
              "    <tr>\n",
              "      <th>359391</th>\n",
              "      <td>10440107</td>\n",
              "      <td>43102</td>\n",
              "      <td>Yellow Cab</td>\n",
              "      <td>WASHINGTON DC</td>\n",
              "      <td>12.76</td>\n",
              "      <td>191.58</td>\n",
              "      <td>177.6192</td>\n",
              "      <td>418,859</td>\n",
              "      <td>127,001</td>\n",
              "    </tr>\n",
              "  </tbody>\n",
              "</table>\n",
              "<p>359392 rows × 9 columns</p>\n",
              "</div>\n",
              "      <button class=\"colab-df-convert\" onclick=\"convertToInteractive('df-eafbacc6-8bbb-4485-94c5-de27947bfc77')\"\n",
              "              title=\"Convert this dataframe to an interactive table.\"\n",
              "              style=\"display:none;\">\n",
              "        \n",
              "  <svg xmlns=\"http://www.w3.org/2000/svg\" height=\"24px\"viewBox=\"0 0 24 24\"\n",
              "       width=\"24px\">\n",
              "    <path d=\"M0 0h24v24H0V0z\" fill=\"none\"/>\n",
              "    <path d=\"M18.56 5.44l.94 2.06.94-2.06 2.06-.94-2.06-.94-.94-2.06-.94 2.06-2.06.94zm-11 1L8.5 8.5l.94-2.06 2.06-.94-2.06-.94L8.5 2.5l-.94 2.06-2.06.94zm10 10l.94 2.06.94-2.06 2.06-.94-2.06-.94-.94-2.06-.94 2.06-2.06.94z\"/><path d=\"M17.41 7.96l-1.37-1.37c-.4-.4-.92-.59-1.43-.59-.52 0-1.04.2-1.43.59L10.3 9.45l-7.72 7.72c-.78.78-.78 2.05 0 2.83L4 21.41c.39.39.9.59 1.41.59.51 0 1.02-.2 1.41-.59l7.78-7.78 2.81-2.81c.8-.78.8-2.07 0-2.86zM5.41 20L4 18.59l7.72-7.72 1.47 1.35L5.41 20z\"/>\n",
              "  </svg>\n",
              "      </button>\n",
              "      \n",
              "  <style>\n",
              "    .colab-df-container {\n",
              "      display:flex;\n",
              "      flex-wrap:wrap;\n",
              "      gap: 12px;\n",
              "    }\n",
              "\n",
              "    .colab-df-convert {\n",
              "      background-color: #E8F0FE;\n",
              "      border: none;\n",
              "      border-radius: 50%;\n",
              "      cursor: pointer;\n",
              "      display: none;\n",
              "      fill: #1967D2;\n",
              "      height: 32px;\n",
              "      padding: 0 0 0 0;\n",
              "      width: 32px;\n",
              "    }\n",
              "\n",
              "    .colab-df-convert:hover {\n",
              "      background-color: #E2EBFA;\n",
              "      box-shadow: 0px 1px 2px rgba(60, 64, 67, 0.3), 0px 1px 3px 1px rgba(60, 64, 67, 0.15);\n",
              "      fill: #174EA6;\n",
              "    }\n",
              "\n",
              "    [theme=dark] .colab-df-convert {\n",
              "      background-color: #3B4455;\n",
              "      fill: #D2E3FC;\n",
              "    }\n",
              "\n",
              "    [theme=dark] .colab-df-convert:hover {\n",
              "      background-color: #434B5C;\n",
              "      box-shadow: 0px 1px 3px 1px rgba(0, 0, 0, 0.15);\n",
              "      filter: drop-shadow(0px 1px 2px rgba(0, 0, 0, 0.3));\n",
              "      fill: #FFFFFF;\n",
              "    }\n",
              "  </style>\n",
              "\n",
              "      <script>\n",
              "        const buttonEl =\n",
              "          document.querySelector('#df-eafbacc6-8bbb-4485-94c5-de27947bfc77 button.colab-df-convert');\n",
              "        buttonEl.style.display =\n",
              "          google.colab.kernel.accessAllowed ? 'block' : 'none';\n",
              "\n",
              "        async function convertToInteractive(key) {\n",
              "          const element = document.querySelector('#df-eafbacc6-8bbb-4485-94c5-de27947bfc77');\n",
              "          const dataTable =\n",
              "            await google.colab.kernel.invokeFunction('convertToInteractive',\n",
              "                                                     [key], {});\n",
              "          if (!dataTable) return;\n",
              "\n",
              "          const docLinkHtml = 'Like what you see? Visit the ' +\n",
              "            '<a target=\"_blank\" href=https://colab.research.google.com/notebooks/data_table.ipynb>data table notebook</a>'\n",
              "            + ' to learn more about interactive tables.';\n",
              "          element.innerHTML = '';\n",
              "          dataTable['output_type'] = 'display_data';\n",
              "          await google.colab.output.renderOutput(dataTable, element);\n",
              "          const docLink = document.createElement('div');\n",
              "          docLink.innerHTML = docLinkHtml;\n",
              "          element.appendChild(docLink);\n",
              "        }\n",
              "      </script>\n",
              "    </div>\n",
              "  </div>\n",
              "  "
            ]
          },
          "metadata": {},
          "execution_count": 12
        }
      ]
    },
    {
      "cell_type": "code",
      "source": [
        "merged = pd.merge(df_merge, df1_merge)\n",
        "\n",
        "merged"
      ],
      "metadata": {
        "colab": {
          "base_uri": "https://localhost:8080/",
          "height": 696
        },
        "id": "loqdUw4o3E8N",
        "outputId": "5e070838-6edf-4d44-c8bd-8a2f4826c49f"
      },
      "execution_count": 13,
      "outputs": [
        {
          "output_type": "execute_result",
          "data": {
            "text/plain": [
              "        Transaction ID  Customer ID Payment_Mode Gender  Age  \\\n",
              "0             10000011        29290         Card   Male   28   \n",
              "1             10000012        27703         Card   Male   27   \n",
              "2             10000013        28712         Cash   Male   53   \n",
              "3             10000014        28020         Cash   Male   23   \n",
              "4             10000015        27182         Card   Male   33   \n",
              "...                ...          ...          ...    ...  ...   \n",
              "359387        10440101        52392         Cash   Male   24   \n",
              "359388        10440104        53286         Cash   Male   32   \n",
              "359389        10440105        52265         Cash   Male   56   \n",
              "359390        10440106        52175         Card   Male   32   \n",
              "359391        10440107        52917         Card   Male   20   \n",
              "\n",
              "        Income (USD/Month)  Date of Travel     Company           City  \\\n",
              "0                    10813           42377    Pink Cab     ATLANTA GA   \n",
              "1                     9237           42375    Pink Cab     ATLANTA GA   \n",
              "2                    11242           42371    Pink Cab     ATLANTA GA   \n",
              "3                    23327           42376    Pink Cab     ATLANTA GA   \n",
              "4                     8536           42372    Pink Cab     ATLANTA GA   \n",
              "...                    ...             ...         ...            ...   \n",
              "359387               15651           43108  Yellow Cab  WASHINGTON DC   \n",
              "359388                6528           43104  Yellow Cab  WASHINGTON DC   \n",
              "359389                7966           43105  Yellow Cab  WASHINGTON DC   \n",
              "359390                6423           43105  Yellow Cab  WASHINGTON DC   \n",
              "359391               11284           43102  Yellow Cab  WASHINGTON DC   \n",
              "\n",
              "        KM Travelled  Price Charged  Cost of Trip Population      Users  \n",
              "0              30.45         370.95      313.6350   814,885     24,701   \n",
              "1              28.62         358.52      334.8540   814,885     24,701   \n",
              "2               9.04         125.20       97.6320   814,885     24,701   \n",
              "3              33.17         377.40      351.6020   814,885     24,701   \n",
              "4               8.73         114.62       97.7760   814,885     24,701   \n",
              "...              ...            ...           ...        ...        ...  \n",
              "359387          4.80          69.24       63.3600   418,859    127,001   \n",
              "359388          8.40         113.75      106.8480   418,859    127,001   \n",
              "359389         27.75         437.07      349.6500   418,859    127,001   \n",
              "359390          8.80         146.19      114.0480   418,859    127,001   \n",
              "359391         12.76         191.58      177.6192   418,859    127,001   \n",
              "\n",
              "[359392 rows x 14 columns]"
            ],
            "text/html": [
              "\n",
              "  <div id=\"df-ae269326-f758-46c7-a5ed-97c440862132\">\n",
              "    <div class=\"colab-df-container\">\n",
              "      <div>\n",
              "<style scoped>\n",
              "    .dataframe tbody tr th:only-of-type {\n",
              "        vertical-align: middle;\n",
              "    }\n",
              "\n",
              "    .dataframe tbody tr th {\n",
              "        vertical-align: top;\n",
              "    }\n",
              "\n",
              "    .dataframe thead th {\n",
              "        text-align: right;\n",
              "    }\n",
              "</style>\n",
              "<table border=\"1\" class=\"dataframe\">\n",
              "  <thead>\n",
              "    <tr style=\"text-align: right;\">\n",
              "      <th></th>\n",
              "      <th>Transaction ID</th>\n",
              "      <th>Customer ID</th>\n",
              "      <th>Payment_Mode</th>\n",
              "      <th>Gender</th>\n",
              "      <th>Age</th>\n",
              "      <th>Income (USD/Month)</th>\n",
              "      <th>Date of Travel</th>\n",
              "      <th>Company</th>\n",
              "      <th>City</th>\n",
              "      <th>KM Travelled</th>\n",
              "      <th>Price Charged</th>\n",
              "      <th>Cost of Trip</th>\n",
              "      <th>Population</th>\n",
              "      <th>Users</th>\n",
              "    </tr>\n",
              "  </thead>\n",
              "  <tbody>\n",
              "    <tr>\n",
              "      <th>0</th>\n",
              "      <td>10000011</td>\n",
              "      <td>29290</td>\n",
              "      <td>Card</td>\n",
              "      <td>Male</td>\n",
              "      <td>28</td>\n",
              "      <td>10813</td>\n",
              "      <td>42377</td>\n",
              "      <td>Pink Cab</td>\n",
              "      <td>ATLANTA GA</td>\n",
              "      <td>30.45</td>\n",
              "      <td>370.95</td>\n",
              "      <td>313.6350</td>\n",
              "      <td>814,885</td>\n",
              "      <td>24,701</td>\n",
              "    </tr>\n",
              "    <tr>\n",
              "      <th>1</th>\n",
              "      <td>10000012</td>\n",
              "      <td>27703</td>\n",
              "      <td>Card</td>\n",
              "      <td>Male</td>\n",
              "      <td>27</td>\n",
              "      <td>9237</td>\n",
              "      <td>42375</td>\n",
              "      <td>Pink Cab</td>\n",
              "      <td>ATLANTA GA</td>\n",
              "      <td>28.62</td>\n",
              "      <td>358.52</td>\n",
              "      <td>334.8540</td>\n",
              "      <td>814,885</td>\n",
              "      <td>24,701</td>\n",
              "    </tr>\n",
              "    <tr>\n",
              "      <th>2</th>\n",
              "      <td>10000013</td>\n",
              "      <td>28712</td>\n",
              "      <td>Cash</td>\n",
              "      <td>Male</td>\n",
              "      <td>53</td>\n",
              "      <td>11242</td>\n",
              "      <td>42371</td>\n",
              "      <td>Pink Cab</td>\n",
              "      <td>ATLANTA GA</td>\n",
              "      <td>9.04</td>\n",
              "      <td>125.20</td>\n",
              "      <td>97.6320</td>\n",
              "      <td>814,885</td>\n",
              "      <td>24,701</td>\n",
              "    </tr>\n",
              "    <tr>\n",
              "      <th>3</th>\n",
              "      <td>10000014</td>\n",
              "      <td>28020</td>\n",
              "      <td>Cash</td>\n",
              "      <td>Male</td>\n",
              "      <td>23</td>\n",
              "      <td>23327</td>\n",
              "      <td>42376</td>\n",
              "      <td>Pink Cab</td>\n",
              "      <td>ATLANTA GA</td>\n",
              "      <td>33.17</td>\n",
              "      <td>377.40</td>\n",
              "      <td>351.6020</td>\n",
              "      <td>814,885</td>\n",
              "      <td>24,701</td>\n",
              "    </tr>\n",
              "    <tr>\n",
              "      <th>4</th>\n",
              "      <td>10000015</td>\n",
              "      <td>27182</td>\n",
              "      <td>Card</td>\n",
              "      <td>Male</td>\n",
              "      <td>33</td>\n",
              "      <td>8536</td>\n",
              "      <td>42372</td>\n",
              "      <td>Pink Cab</td>\n",
              "      <td>ATLANTA GA</td>\n",
              "      <td>8.73</td>\n",
              "      <td>114.62</td>\n",
              "      <td>97.7760</td>\n",
              "      <td>814,885</td>\n",
              "      <td>24,701</td>\n",
              "    </tr>\n",
              "    <tr>\n",
              "      <th>...</th>\n",
              "      <td>...</td>\n",
              "      <td>...</td>\n",
              "      <td>...</td>\n",
              "      <td>...</td>\n",
              "      <td>...</td>\n",
              "      <td>...</td>\n",
              "      <td>...</td>\n",
              "      <td>...</td>\n",
              "      <td>...</td>\n",
              "      <td>...</td>\n",
              "      <td>...</td>\n",
              "      <td>...</td>\n",
              "      <td>...</td>\n",
              "      <td>...</td>\n",
              "    </tr>\n",
              "    <tr>\n",
              "      <th>359387</th>\n",
              "      <td>10440101</td>\n",
              "      <td>52392</td>\n",
              "      <td>Cash</td>\n",
              "      <td>Male</td>\n",
              "      <td>24</td>\n",
              "      <td>15651</td>\n",
              "      <td>43108</td>\n",
              "      <td>Yellow Cab</td>\n",
              "      <td>WASHINGTON DC</td>\n",
              "      <td>4.80</td>\n",
              "      <td>69.24</td>\n",
              "      <td>63.3600</td>\n",
              "      <td>418,859</td>\n",
              "      <td>127,001</td>\n",
              "    </tr>\n",
              "    <tr>\n",
              "      <th>359388</th>\n",
              "      <td>10440104</td>\n",
              "      <td>53286</td>\n",
              "      <td>Cash</td>\n",
              "      <td>Male</td>\n",
              "      <td>32</td>\n",
              "      <td>6528</td>\n",
              "      <td>43104</td>\n",
              "      <td>Yellow Cab</td>\n",
              "      <td>WASHINGTON DC</td>\n",
              "      <td>8.40</td>\n",
              "      <td>113.75</td>\n",
              "      <td>106.8480</td>\n",
              "      <td>418,859</td>\n",
              "      <td>127,001</td>\n",
              "    </tr>\n",
              "    <tr>\n",
              "      <th>359389</th>\n",
              "      <td>10440105</td>\n",
              "      <td>52265</td>\n",
              "      <td>Cash</td>\n",
              "      <td>Male</td>\n",
              "      <td>56</td>\n",
              "      <td>7966</td>\n",
              "      <td>43105</td>\n",
              "      <td>Yellow Cab</td>\n",
              "      <td>WASHINGTON DC</td>\n",
              "      <td>27.75</td>\n",
              "      <td>437.07</td>\n",
              "      <td>349.6500</td>\n",
              "      <td>418,859</td>\n",
              "      <td>127,001</td>\n",
              "    </tr>\n",
              "    <tr>\n",
              "      <th>359390</th>\n",
              "      <td>10440106</td>\n",
              "      <td>52175</td>\n",
              "      <td>Card</td>\n",
              "      <td>Male</td>\n",
              "      <td>32</td>\n",
              "      <td>6423</td>\n",
              "      <td>43105</td>\n",
              "      <td>Yellow Cab</td>\n",
              "      <td>WASHINGTON DC</td>\n",
              "      <td>8.80</td>\n",
              "      <td>146.19</td>\n",
              "      <td>114.0480</td>\n",
              "      <td>418,859</td>\n",
              "      <td>127,001</td>\n",
              "    </tr>\n",
              "    <tr>\n",
              "      <th>359391</th>\n",
              "      <td>10440107</td>\n",
              "      <td>52917</td>\n",
              "      <td>Card</td>\n",
              "      <td>Male</td>\n",
              "      <td>20</td>\n",
              "      <td>11284</td>\n",
              "      <td>43102</td>\n",
              "      <td>Yellow Cab</td>\n",
              "      <td>WASHINGTON DC</td>\n",
              "      <td>12.76</td>\n",
              "      <td>191.58</td>\n",
              "      <td>177.6192</td>\n",
              "      <td>418,859</td>\n",
              "      <td>127,001</td>\n",
              "    </tr>\n",
              "  </tbody>\n",
              "</table>\n",
              "<p>359392 rows × 14 columns</p>\n",
              "</div>\n",
              "      <button class=\"colab-df-convert\" onclick=\"convertToInteractive('df-ae269326-f758-46c7-a5ed-97c440862132')\"\n",
              "              title=\"Convert this dataframe to an interactive table.\"\n",
              "              style=\"display:none;\">\n",
              "        \n",
              "  <svg xmlns=\"http://www.w3.org/2000/svg\" height=\"24px\"viewBox=\"0 0 24 24\"\n",
              "       width=\"24px\">\n",
              "    <path d=\"M0 0h24v24H0V0z\" fill=\"none\"/>\n",
              "    <path d=\"M18.56 5.44l.94 2.06.94-2.06 2.06-.94-2.06-.94-.94-2.06-.94 2.06-2.06.94zm-11 1L8.5 8.5l.94-2.06 2.06-.94-2.06-.94L8.5 2.5l-.94 2.06-2.06.94zm10 10l.94 2.06.94-2.06 2.06-.94-2.06-.94-.94-2.06-.94 2.06-2.06.94z\"/><path d=\"M17.41 7.96l-1.37-1.37c-.4-.4-.92-.59-1.43-.59-.52 0-1.04.2-1.43.59L10.3 9.45l-7.72 7.72c-.78.78-.78 2.05 0 2.83L4 21.41c.39.39.9.59 1.41.59.51 0 1.02-.2 1.41-.59l7.78-7.78 2.81-2.81c.8-.78.8-2.07 0-2.86zM5.41 20L4 18.59l7.72-7.72 1.47 1.35L5.41 20z\"/>\n",
              "  </svg>\n",
              "      </button>\n",
              "      \n",
              "  <style>\n",
              "    .colab-df-container {\n",
              "      display:flex;\n",
              "      flex-wrap:wrap;\n",
              "      gap: 12px;\n",
              "    }\n",
              "\n",
              "    .colab-df-convert {\n",
              "      background-color: #E8F0FE;\n",
              "      border: none;\n",
              "      border-radius: 50%;\n",
              "      cursor: pointer;\n",
              "      display: none;\n",
              "      fill: #1967D2;\n",
              "      height: 32px;\n",
              "      padding: 0 0 0 0;\n",
              "      width: 32px;\n",
              "    }\n",
              "\n",
              "    .colab-df-convert:hover {\n",
              "      background-color: #E2EBFA;\n",
              "      box-shadow: 0px 1px 2px rgba(60, 64, 67, 0.3), 0px 1px 3px 1px rgba(60, 64, 67, 0.15);\n",
              "      fill: #174EA6;\n",
              "    }\n",
              "\n",
              "    [theme=dark] .colab-df-convert {\n",
              "      background-color: #3B4455;\n",
              "      fill: #D2E3FC;\n",
              "    }\n",
              "\n",
              "    [theme=dark] .colab-df-convert:hover {\n",
              "      background-color: #434B5C;\n",
              "      box-shadow: 0px 1px 3px 1px rgba(0, 0, 0, 0.15);\n",
              "      filter: drop-shadow(0px 1px 2px rgba(0, 0, 0, 0.3));\n",
              "      fill: #FFFFFF;\n",
              "    }\n",
              "  </style>\n",
              "\n",
              "      <script>\n",
              "        const buttonEl =\n",
              "          document.querySelector('#df-ae269326-f758-46c7-a5ed-97c440862132 button.colab-df-convert');\n",
              "        buttonEl.style.display =\n",
              "          google.colab.kernel.accessAllowed ? 'block' : 'none';\n",
              "\n",
              "        async function convertToInteractive(key) {\n",
              "          const element = document.querySelector('#df-ae269326-f758-46c7-a5ed-97c440862132');\n",
              "          const dataTable =\n",
              "            await google.colab.kernel.invokeFunction('convertToInteractive',\n",
              "                                                     [key], {});\n",
              "          if (!dataTable) return;\n",
              "\n",
              "          const docLinkHtml = 'Like what you see? Visit the ' +\n",
              "            '<a target=\"_blank\" href=https://colab.research.google.com/notebooks/data_table.ipynb>data table notebook</a>'\n",
              "            + ' to learn more about interactive tables.';\n",
              "          element.innerHTML = '';\n",
              "          dataTable['output_type'] = 'display_data';\n",
              "          await google.colab.output.renderOutput(dataTable, element);\n",
              "          const docLink = document.createElement('div');\n",
              "          docLink.innerHTML = docLinkHtml;\n",
              "          element.appendChild(docLink);\n",
              "        }\n",
              "      </script>\n",
              "    </div>\n",
              "  </div>\n",
              "  "
            ]
          },
          "metadata": {},
          "execution_count": 13
        }
      ]
    },
    {
      "cell_type": "code",
      "source": [
        "#checking column names\n",
        "merged.columns"
      ],
      "metadata": {
        "colab": {
          "base_uri": "https://localhost:8080/"
        },
        "id": "GWp1cMW43dWH",
        "outputId": "a4dd9f4d-73f0-4eae-94cd-3ad492a187e7"
      },
      "execution_count": 14,
      "outputs": [
        {
          "output_type": "execute_result",
          "data": {
            "text/plain": [
              "Index(['Transaction ID', 'Customer ID', 'Payment_Mode', 'Gender', 'Age',\n",
              "       'Income (USD/Month)', 'Date of Travel', 'Company', 'City',\n",
              "       'KM Travelled', 'Price Charged', 'Cost of Trip', 'Population', 'Users'],\n",
              "      dtype='object')"
            ]
          },
          "metadata": {},
          "execution_count": 14
        }
      ]
    },
    {
      "cell_type": "code",
      "source": [
        "merged.shape"
      ],
      "metadata": {
        "id": "c_GZmQrJ31Dr",
        "colab": {
          "base_uri": "https://localhost:8080/"
        },
        "outputId": "629ca547-b69a-4ec5-f62e-1908cd464189"
      },
      "execution_count": 15,
      "outputs": [
        {
          "output_type": "execute_result",
          "data": {
            "text/plain": [
              "(359392, 14)"
            ]
          },
          "metadata": {},
          "execution_count": 15
        }
      ]
    },
    {
      "cell_type": "code",
      "source": [
        "merged.info()"
      ],
      "metadata": {
        "id": "2pUiPpXh3vFf",
        "colab": {
          "base_uri": "https://localhost:8080/"
        },
        "outputId": "26c3382c-9ed5-4d2c-9bd5-578d2b58ee5c"
      },
      "execution_count": 16,
      "outputs": [
        {
          "output_type": "stream",
          "name": "stdout",
          "text": [
            "<class 'pandas.core.frame.DataFrame'>\n",
            "Int64Index: 359392 entries, 0 to 359391\n",
            "Data columns (total 14 columns):\n",
            " #   Column              Non-Null Count   Dtype  \n",
            "---  ------              --------------   -----  \n",
            " 0   Transaction ID      359392 non-null  int64  \n",
            " 1   Customer ID         359392 non-null  int64  \n",
            " 2   Payment_Mode        359392 non-null  object \n",
            " 3   Gender              359392 non-null  object \n",
            " 4   Age                 359392 non-null  int64  \n",
            " 5   Income (USD/Month)  359392 non-null  int64  \n",
            " 6   Date of Travel      359392 non-null  int64  \n",
            " 7   Company             359392 non-null  object \n",
            " 8   City                359392 non-null  object \n",
            " 9   KM Travelled        359392 non-null  float64\n",
            " 10  Price Charged       359392 non-null  float64\n",
            " 11  Cost of Trip        359392 non-null  float64\n",
            " 12  Population          359392 non-null  object \n",
            " 13  Users               359392 non-null  object \n",
            "dtypes: float64(3), int64(5), object(6)\n",
            "memory usage: 41.1+ MB\n"
          ]
        }
      ]
    },
    {
      "cell_type": "code",
      "source": [
        "cab['Date of Travel'] = pd.to_datetime(cab['Date of Travel'], unit = 'D', origin = '1899-12-30') "
      ],
      "metadata": {
        "id": "PUbcnx6dC17d"
      },
      "execution_count": 17,
      "outputs": []
    },
    {
      "cell_type": "code",
      "source": [
        "# Checking statistical information\n",
        "merged.describe()"
      ],
      "metadata": {
        "colab": {
          "base_uri": "https://localhost:8080/",
          "height": 381
        },
        "id": "oIWz9s4qFuZx",
        "outputId": "c52c6474-be17-42fe-ebff-1b7a6d695b78"
      },
      "execution_count": 18,
      "outputs": [
        {
          "output_type": "execute_result",
          "data": {
            "text/plain": [
              "       Transaction ID    Customer ID            Age  Income (USD/Month)  \\\n",
              "count    3.593920e+05  359392.000000  359392.000000       359392.000000   \n",
              "mean     1.022076e+07   19191.652115      35.336705        15048.822937   \n",
              "std      1.268058e+05   21012.412463      12.594234         7969.409482   \n",
              "min      1.000001e+07       1.000000      18.000000         2000.000000   \n",
              "25%      1.011081e+07    2705.000000      25.000000         8424.000000   \n",
              "50%      1.022104e+07    7459.000000      33.000000        14685.000000   \n",
              "75%      1.033094e+07   36078.000000      42.000000        21035.000000   \n",
              "max      1.044011e+07   60000.000000      65.000000        35000.000000   \n",
              "\n",
              "       Date of Travel   KM Travelled  Price Charged   Cost of Trip  \n",
              "count   359392.000000  359392.000000  359392.000000  359392.000000  \n",
              "mean     42964.067998      22.567254     423.443311     286.190113  \n",
              "std        307.467197      12.233526     274.378911     157.993661  \n",
              "min      42371.000000       1.900000      15.600000      19.000000  \n",
              "25%      42697.000000      12.000000     206.437500     151.200000  \n",
              "50%      42988.000000      22.440000     386.360000     282.480000  \n",
              "75%      43232.000000      32.960000     583.660000     413.683200  \n",
              "max      43465.000000      48.000000    2048.030000     691.200000  "
            ],
            "text/html": [
              "\n",
              "  <div id=\"df-2e5df16d-047b-4114-a29b-f4a2b635a9f3\">\n",
              "    <div class=\"colab-df-container\">\n",
              "      <div>\n",
              "<style scoped>\n",
              "    .dataframe tbody tr th:only-of-type {\n",
              "        vertical-align: middle;\n",
              "    }\n",
              "\n",
              "    .dataframe tbody tr th {\n",
              "        vertical-align: top;\n",
              "    }\n",
              "\n",
              "    .dataframe thead th {\n",
              "        text-align: right;\n",
              "    }\n",
              "</style>\n",
              "<table border=\"1\" class=\"dataframe\">\n",
              "  <thead>\n",
              "    <tr style=\"text-align: right;\">\n",
              "      <th></th>\n",
              "      <th>Transaction ID</th>\n",
              "      <th>Customer ID</th>\n",
              "      <th>Age</th>\n",
              "      <th>Income (USD/Month)</th>\n",
              "      <th>Date of Travel</th>\n",
              "      <th>KM Travelled</th>\n",
              "      <th>Price Charged</th>\n",
              "      <th>Cost of Trip</th>\n",
              "    </tr>\n",
              "  </thead>\n",
              "  <tbody>\n",
              "    <tr>\n",
              "      <th>count</th>\n",
              "      <td>3.593920e+05</td>\n",
              "      <td>359392.000000</td>\n",
              "      <td>359392.000000</td>\n",
              "      <td>359392.000000</td>\n",
              "      <td>359392.000000</td>\n",
              "      <td>359392.000000</td>\n",
              "      <td>359392.000000</td>\n",
              "      <td>359392.000000</td>\n",
              "    </tr>\n",
              "    <tr>\n",
              "      <th>mean</th>\n",
              "      <td>1.022076e+07</td>\n",
              "      <td>19191.652115</td>\n",
              "      <td>35.336705</td>\n",
              "      <td>15048.822937</td>\n",
              "      <td>42964.067998</td>\n",
              "      <td>22.567254</td>\n",
              "      <td>423.443311</td>\n",
              "      <td>286.190113</td>\n",
              "    </tr>\n",
              "    <tr>\n",
              "      <th>std</th>\n",
              "      <td>1.268058e+05</td>\n",
              "      <td>21012.412463</td>\n",
              "      <td>12.594234</td>\n",
              "      <td>7969.409482</td>\n",
              "      <td>307.467197</td>\n",
              "      <td>12.233526</td>\n",
              "      <td>274.378911</td>\n",
              "      <td>157.993661</td>\n",
              "    </tr>\n",
              "    <tr>\n",
              "      <th>min</th>\n",
              "      <td>1.000001e+07</td>\n",
              "      <td>1.000000</td>\n",
              "      <td>18.000000</td>\n",
              "      <td>2000.000000</td>\n",
              "      <td>42371.000000</td>\n",
              "      <td>1.900000</td>\n",
              "      <td>15.600000</td>\n",
              "      <td>19.000000</td>\n",
              "    </tr>\n",
              "    <tr>\n",
              "      <th>25%</th>\n",
              "      <td>1.011081e+07</td>\n",
              "      <td>2705.000000</td>\n",
              "      <td>25.000000</td>\n",
              "      <td>8424.000000</td>\n",
              "      <td>42697.000000</td>\n",
              "      <td>12.000000</td>\n",
              "      <td>206.437500</td>\n",
              "      <td>151.200000</td>\n",
              "    </tr>\n",
              "    <tr>\n",
              "      <th>50%</th>\n",
              "      <td>1.022104e+07</td>\n",
              "      <td>7459.000000</td>\n",
              "      <td>33.000000</td>\n",
              "      <td>14685.000000</td>\n",
              "      <td>42988.000000</td>\n",
              "      <td>22.440000</td>\n",
              "      <td>386.360000</td>\n",
              "      <td>282.480000</td>\n",
              "    </tr>\n",
              "    <tr>\n",
              "      <th>75%</th>\n",
              "      <td>1.033094e+07</td>\n",
              "      <td>36078.000000</td>\n",
              "      <td>42.000000</td>\n",
              "      <td>21035.000000</td>\n",
              "      <td>43232.000000</td>\n",
              "      <td>32.960000</td>\n",
              "      <td>583.660000</td>\n",
              "      <td>413.683200</td>\n",
              "    </tr>\n",
              "    <tr>\n",
              "      <th>max</th>\n",
              "      <td>1.044011e+07</td>\n",
              "      <td>60000.000000</td>\n",
              "      <td>65.000000</td>\n",
              "      <td>35000.000000</td>\n",
              "      <td>43465.000000</td>\n",
              "      <td>48.000000</td>\n",
              "      <td>2048.030000</td>\n",
              "      <td>691.200000</td>\n",
              "    </tr>\n",
              "  </tbody>\n",
              "</table>\n",
              "</div>\n",
              "      <button class=\"colab-df-convert\" onclick=\"convertToInteractive('df-2e5df16d-047b-4114-a29b-f4a2b635a9f3')\"\n",
              "              title=\"Convert this dataframe to an interactive table.\"\n",
              "              style=\"display:none;\">\n",
              "        \n",
              "  <svg xmlns=\"http://www.w3.org/2000/svg\" height=\"24px\"viewBox=\"0 0 24 24\"\n",
              "       width=\"24px\">\n",
              "    <path d=\"M0 0h24v24H0V0z\" fill=\"none\"/>\n",
              "    <path d=\"M18.56 5.44l.94 2.06.94-2.06 2.06-.94-2.06-.94-.94-2.06-.94 2.06-2.06.94zm-11 1L8.5 8.5l.94-2.06 2.06-.94-2.06-.94L8.5 2.5l-.94 2.06-2.06.94zm10 10l.94 2.06.94-2.06 2.06-.94-2.06-.94-.94-2.06-.94 2.06-2.06.94z\"/><path d=\"M17.41 7.96l-1.37-1.37c-.4-.4-.92-.59-1.43-.59-.52 0-1.04.2-1.43.59L10.3 9.45l-7.72 7.72c-.78.78-.78 2.05 0 2.83L4 21.41c.39.39.9.59 1.41.59.51 0 1.02-.2 1.41-.59l7.78-7.78 2.81-2.81c.8-.78.8-2.07 0-2.86zM5.41 20L4 18.59l7.72-7.72 1.47 1.35L5.41 20z\"/>\n",
              "  </svg>\n",
              "      </button>\n",
              "      \n",
              "  <style>\n",
              "    .colab-df-container {\n",
              "      display:flex;\n",
              "      flex-wrap:wrap;\n",
              "      gap: 12px;\n",
              "    }\n",
              "\n",
              "    .colab-df-convert {\n",
              "      background-color: #E8F0FE;\n",
              "      border: none;\n",
              "      border-radius: 50%;\n",
              "      cursor: pointer;\n",
              "      display: none;\n",
              "      fill: #1967D2;\n",
              "      height: 32px;\n",
              "      padding: 0 0 0 0;\n",
              "      width: 32px;\n",
              "    }\n",
              "\n",
              "    .colab-df-convert:hover {\n",
              "      background-color: #E2EBFA;\n",
              "      box-shadow: 0px 1px 2px rgba(60, 64, 67, 0.3), 0px 1px 3px 1px rgba(60, 64, 67, 0.15);\n",
              "      fill: #174EA6;\n",
              "    }\n",
              "\n",
              "    [theme=dark] .colab-df-convert {\n",
              "      background-color: #3B4455;\n",
              "      fill: #D2E3FC;\n",
              "    }\n",
              "\n",
              "    [theme=dark] .colab-df-convert:hover {\n",
              "      background-color: #434B5C;\n",
              "      box-shadow: 0px 1px 3px 1px rgba(0, 0, 0, 0.15);\n",
              "      filter: drop-shadow(0px 1px 2px rgba(0, 0, 0, 0.3));\n",
              "      fill: #FFFFFF;\n",
              "    }\n",
              "  </style>\n",
              "\n",
              "      <script>\n",
              "        const buttonEl =\n",
              "          document.querySelector('#df-2e5df16d-047b-4114-a29b-f4a2b635a9f3 button.colab-df-convert');\n",
              "        buttonEl.style.display =\n",
              "          google.colab.kernel.accessAllowed ? 'block' : 'none';\n",
              "\n",
              "        async function convertToInteractive(key) {\n",
              "          const element = document.querySelector('#df-2e5df16d-047b-4114-a29b-f4a2b635a9f3');\n",
              "          const dataTable =\n",
              "            await google.colab.kernel.invokeFunction('convertToInteractive',\n",
              "                                                     [key], {});\n",
              "          if (!dataTable) return;\n",
              "\n",
              "          const docLinkHtml = 'Like what you see? Visit the ' +\n",
              "            '<a target=\"_blank\" href=https://colab.research.google.com/notebooks/data_table.ipynb>data table notebook</a>'\n",
              "            + ' to learn more about interactive tables.';\n",
              "          element.innerHTML = '';\n",
              "          dataTable['output_type'] = 'display_data';\n",
              "          await google.colab.output.renderOutput(dataTable, element);\n",
              "          const docLink = document.createElement('div');\n",
              "          docLink.innerHTML = docLinkHtml;\n",
              "          element.appendChild(docLink);\n",
              "        }\n",
              "      </script>\n",
              "    </div>\n",
              "  </div>\n",
              "  "
            ]
          },
          "metadata": {},
          "execution_count": 18
        }
      ]
    },
    {
      "cell_type": "code",
      "source": [
        "# Check for null values in our dataset\n",
        "merged.isnull().sum()"
      ],
      "metadata": {
        "colab": {
          "base_uri": "https://localhost:8080/"
        },
        "id": "_cRUzjcnGA_c",
        "outputId": "a0a20a5a-c943-4ac3-8a6f-8807d2a5ab9b"
      },
      "execution_count": 19,
      "outputs": [
        {
          "output_type": "execute_result",
          "data": {
            "text/plain": [
              "Transaction ID        0\n",
              "Customer ID           0\n",
              "Payment_Mode          0\n",
              "Gender                0\n",
              "Age                   0\n",
              "Income (USD/Month)    0\n",
              "Date of Travel        0\n",
              "Company               0\n",
              "City                  0\n",
              "KM Travelled          0\n",
              "Price Charged         0\n",
              "Cost of Trip          0\n",
              "Population            0\n",
              "Users                 0\n",
              "dtype: int64"
            ]
          },
          "metadata": {},
          "execution_count": 19
        }
      ]
    },
    {
      "cell_type": "code",
      "source": [
        "# Check for duplicates in our dataset\n",
        "merged.duplicated().sum()"
      ],
      "metadata": {
        "colab": {
          "base_uri": "https://localhost:8080/"
        },
        "id": "N-FEgGXzJ5SF",
        "outputId": "2537a4e6-faab-4e83-95b5-513408940659"
      },
      "execution_count": 20,
      "outputs": [
        {
          "output_type": "execute_result",
          "data": {
            "text/plain": [
              "0"
            ]
          },
          "metadata": {},
          "execution_count": 20
        }
      ]
    },
    {
      "cell_type": "code",
      "source": [
        "# Check for annomalies in our dataframe\n",
        "for i in merged.columns:\n",
        "  print('Unique values in', i , 'are :')\n",
        "  print(merged[i].unique())\n",
        "  print('***************************************************************************')\n",
        "  print('                                                                  ')"
      ],
      "metadata": {
        "colab": {
          "base_uri": "https://localhost:8080/"
        },
        "id": "vL8Y8YZvKrAA",
        "outputId": "6171fc9c-4e01-4a14-b3d0-b4a2441aed7a"
      },
      "execution_count": 21,
      "outputs": [
        {
          "output_type": "stream",
          "name": "stdout",
          "text": [
            "Unique values in Transaction ID are :\n",
            "[10000011 10000012 10000013 ... 10440105 10440106 10440107]\n",
            "***************************************************************************\n",
            "                                                                  \n",
            "Unique values in Customer ID are :\n",
            "[29290 27703 28712 ... 41414 41677 39761]\n",
            "***************************************************************************\n",
            "                                                                  \n",
            "Unique values in Payment_Mode are :\n",
            "['Card' 'Cash']\n",
            "***************************************************************************\n",
            "                                                                  \n",
            "Unique values in Gender are :\n",
            "['Male' 'Female']\n",
            "***************************************************************************\n",
            "                                                                  \n",
            "Unique values in Age are :\n",
            "[28 27 53 23 33 25 19 57 20 63 58 29 38 31 40 22 18 34 21 24 44 30 26 46\n",
            " 62 47 43 32 60 52 51 48 39 45 61 54 37 42 41 35 36 64 55 56 59 65 50 49]\n",
            "***************************************************************************\n",
            "                                                                  \n",
            "Unique values in Income (USD/Month) are :\n",
            "[10813  9237 11242 ... 19417 18713 19454]\n",
            "***************************************************************************\n",
            "                                                                  \n",
            "Unique values in Date of Travel are :\n",
            "[42377 42375 42371 ... 43461 43464 43460]\n",
            "***************************************************************************\n",
            "                                                                  \n",
            "Unique values in Company are :\n",
            "['Pink Cab' 'Yellow Cab']\n",
            "***************************************************************************\n",
            "                                                                  \n",
            "Unique values in City are :\n",
            "['ATLANTA GA' 'AUSTIN TX' 'BOSTON MA' 'CHICAGO IL' 'DALLAS TX' 'DENVER CO'\n",
            " 'LOS ANGELES CA' 'MIAMI FL' 'NASHVILLE TN' 'NEW YORK NY' 'ORANGE COUNTY'\n",
            " 'PHOENIX AZ' 'PITTSBURGH PA' 'SACRAMENTO CA' 'SAN DIEGO CA' 'SEATTLE WA'\n",
            " 'SILICON VALLEY' 'TUCSON AZ' 'WASHINGTON DC']\n",
            "***************************************************************************\n",
            "                                                                  \n",
            "Unique values in KM Travelled are :\n",
            "[30.45 28.62  9.04 33.17  8.73  6.06 44.   35.65 14.4  10.89 39.6  21.8\n",
            " 12.   32.67 25.52 15.54  6.65 34.22 21.34 41.3   1.96 13.44 23.4  23.2\n",
            "  4.48 37.76 14.56 39.55  6.66 37.05 35.02  9.09 41.2  24.2   3.24  7.91\n",
            " 24.75 14.04 27.82 10.2  33.25 38.42 19.08 16.95 31.68 13.2  15.21 30.9\n",
            " 35.34 40.12  7.49 28.34  9.45  4.9  13.13 33.32  4.52 22.4   7.02 28.6\n",
            "  3.84 12.84 46.   36.04 31.92 25.76  4.75 17.85 29.29 23.52 10.8   9.6\n",
            " 45.63 43.7  21.42 30.24  8.72 32.96 23.   37.95 26.73  4.32 29.12 35.52\n",
            " 12.48 32.64 28.8   7.84 25.53 30.   27.6   9.36  5.1  42.84 34.68 12.32\n",
            "  4.28 28.75  2.4  22.31 32.01 22.8  28.42 37.1  36.3  24.15 38.   14.17\n",
            " 13.92 33.28 27.84  6.42 36.36 20.4  25.3  16.32 12.43 29.7  19.    2.1\n",
            " 16.52 27.3  24.7  28.84 34.2  36.63 31.05 22.61 20.06  3.57  7.42 17.34\n",
            "  5.7  26.19  3.51  4.44  8.55 28.35 12.65 38.48 14.28 30.16 10.78 25.07\n",
            " 19.2   6.54 30.52 43.29 31.9   2.36 27.   17.76 38.4  27.44 23.8  22.23\n",
            " 41.76 29.97 35.    7.   39.22 32.3  40.68 22.05 22.   38.61 15.9  31.36\n",
            " 38.76 14.95  7.21  2.16  2.08 15.15 19.8  23.04 20.52  5.   23.28 22.68\n",
            " 21.   32.76 25.25 30.94  9.   20.23  3.92 39.78  5.4   5.8  41.44  3.6\n",
            "  8.96  3.03 29.68 30.68 29.75 20.58 17.92 37.74 33.93 42.18 10.6  26.75\n",
            " 46.02  9.63 38.08 27.37  2.14 15.   11.44 18.9  38.85 18.81 17.1  23.31\n",
            " 40.95 11.88 25.65 15.82 33.33 19.04 31.2  13.08 14.   38.22 31.31 17.44\n",
            "  6.24 39.59 10.44 22.54  6.3  45.24 25.48 18.   16.1  20.71 46.41 13.26\n",
            " 17.12  2.88 29.45 21.56 20.16 29.25 40.8  13.52  9.9  24.72 40.25 23.1\n",
            " 37.29  9.5  26.18 11.5  19.98 11.3  16.16 35.64 13.68 19.38 32.4  39.\n",
            " 33.66 29.   35.31  5.35 27.55 17.55 23.76 41.8  34.24  4.6  35.2  29.5\n",
            " 36.    2.22 16.05 18.62 10.45  9.18 18.54  3.21 44.46 15.3  24.48 26.4\n",
            " 27.72  4.12  4.72 33.06 18.53 39.2  15.26 35.35  2.18 16.8  34.56  6.79\n",
            " 19.95 26.22 32.2  22.6   8.4  21.28  8.56  2.24 14.82 33.35 37.4   6.93\n",
            " 16.   31.35 20.7  11.6  12.36 18.18 18.08 29.43  1.94 40.33 34.3  12.74\n",
            " 14.7  32.77 36.8  21.84  9.28 24.24 27.25 24.61 26.46 45.2   4.16  8.64\n",
            " 13.   11.8  44.07  4.04 31.08 44.84 18.02 39.44 15.12 11.77 23.75  7.98\n",
            " 35.89 41.04 18.19 11.2  15.52  9.72 33.48 26.6   5.95 24.64 12.35  4.8\n",
            " 20.37 41.4  29.4  15.6  33.6  25.08 37.8  41.81  9.52 34.72 40.66 20.34\n",
            " 45.6  24.   41.34 12.76 43.6  42.56 37.83 12.98 21.6  46.4  45.22 22.22\n",
            " 20.9  26.5  15.08 24.57 35.96 28.71 23.73  5.25  9.12 30.78 27.54  9.54\n",
            " 15.75 24.96 19.4  27.36  6.84 19.19  5.45 17.68 23.32 35.7  10.08 23.92\n",
            " 32.32 21.66 41.07 34.32 32.24 37.44 22.77 37.    4.56  3.27 27.81 21.47\n",
            " 22.89  6.    7.07 34.98  8.12  2.85 18.87  7.92  1.92  3.   29.87 33.\n",
            " 34.5  42.48  2.26 12.1  20.6   4.24 26.78 15.47 34.92 10.62 42.94  5.82\n",
            " 11.4  18.36 34.65 13.91 26.   14.84 39.96 17.4   5.05 44.03  7.14  6.72\n",
            " 28.56 19.76  8.33 28.13 12.21 17.28  3.12 15.68  5.88 36.48  8.82  3.06\n",
            "  7.35  8.24 10.26 12.72  5.5  27.27 28.28 13.78  4.4  42.9  25.5  16.35\n",
            " 17.82  6.6  36.27 36.89 19.57 16.15 13.86 40.28 10.7   6.96 13.32  5.3\n",
            " 37.24 17.25 16.83 19.62 14.85 34.8  32.7   2.32 10.1  41.65 31.64 22.66\n",
            "  5.85  2.3  36.75  1.9  39.14 33.9  36.86 32.1  37.12 38.88  2.34  9.27\n",
            " 25.68 32.19 30.07 43.32 15.2  11.22 26.25 21.24  5.55 46.8  36.96 36.26\n",
            "  3.09 23.69 34.51 30.51 13.56 40.6  39.9  32.86 11.    3.96 14.42 15.4\n",
            " 12.6  44.4   3.42 13.39 22.44 29.9  37.62 42.   22.88 29.58 16.24 28.08\n",
            "  4.08  4.2  39.24 32.   27.56 40.56  4.76 42.12 28.5  40.4  35.03 35.97\n",
            " 16.64 28.32 21.2  33.3  12.87  4.68 10.9  13.72  7.08 27.75 16.38 14.25\n",
            " 28.25 36.58 31.03 40.46  6.36 42.92 13.65 11.11  8.26  3.39 20.33 18.24\n",
            " 40.   21.06  3.45 28.   17.46 27.12 44.8   4.95 11.52 32.98 30.4  34.88\n",
            " 12.96 22.26  9.8  35.28 21.63  3.88 31.32  8.   21.85 41.6  33.64 23.54\n",
            " 14.98 38.94 36.38 16.49 30.42  5.94 18.88  6.12  5.2  26.64 36.72  7.2\n",
            " 23.94  7.77 33.04  6.78 18.7  17.64 40.7  20.79 25.2  47.6  24.86 19.72\n",
            " 29.76 30.8   9.7  37.37 36.1   2.94 10.71 24.25 21.21  2.04 14.3  15.96\n",
            " 26.91  7.7  43.68 26.45  9.2  15.45 26.88 10.5  16.96  3.18 19.6  15.34\n",
            " 34.    6.48 17.   29.16 20.2   3.36 34.41 15.36 11.64  7.76 32.34 31.61\n",
            " 42.4  25.   32.13 12.61 35.15 47.2  30.74  3.8   2.2  17.7  13.58 27.16\n",
            "  9.44 11.55 28.89 20.   31.59 15.84 25.92 19.89  2.38 29.38  8.05 24.38\n",
            " 14.14 26.52 39.27  7.68 30.69 26.26 42.8   8.19 14.43 11.1   2.12 29.96\n",
            " 17.51  3.15 31.8  25.99 24.99  6.9  11.66  6.86 32.48 22.47 14.16 12.54\n",
            " 31.    5.6   8.48 16.5  23.98 16.48 41.73 18.72  5.76 20.88  8.32  3.33\n",
            " 21.12 33.95 12.12 27.04  8.88 31.93 27.5   2.91 16.2  25.44 39.39 13.8\n",
            " 30.38  8.16 30.3   7.63 38.52  2.   23.46 31.5  20.8  31.86 23.6  18.05\n",
            " 36.05 20.14 37.06 40.17  7.6   3.54 23.23  2.97  5.65 10.53 44.85 38.11\n",
            " 39.1  18.43 36.16 11.9  17.17 19.55 27.14 18.56 31.04 38.5  37.2   8.08\n",
            " 32.55 35.4  43.2  16.66 10.17 19.26 42.55 33.92  1.98 28.86 35.84 30.72\n",
            " 10.4   4.64 44.08 24.5   4.   26.68 24.42  7.28 38.38 25.74 13.3   5.15\n",
            " 33.79  4.36 17.6  10.35 11.76 14.69 25.22 10.3  38.8  26.16 43.66  5.75\n",
            "  7.56 12.24 14.55 24.36  2.28 35.36 21.4   4.85 18.4  39.52 21.78 33.99\n",
            " 29.64  8.8   6.18  5.9  35.1  22.42 22.2  38.16  2.02 40.32  9.81 22.04\n",
            " 10.56 25.96 42.51 10.67 24.78 37.45  3.3  48.   24.84  3.48 11.7  11.33\n",
            " 25.75 41.42 16.65 13.09 29.1  37.08 34.1  36.4   9.99  2.06 30.6  38.28\n",
            " 11.99 21.09 34.34 22.08 38.15 19.21 31.62 10.    8.91 19.44]\n",
            "***************************************************************************\n",
            "                                                                  \n",
            "Unique values in Price Charged are :\n",
            "[370.95 358.52 125.2  ...  31.49 742.24 620.62]\n",
            "***************************************************************************\n",
            "                                                                  \n",
            "Unique values in Cost of Trip are :\n",
            "[313.635 334.854  97.632 ... 289.739 148.016 118.976]\n",
            "***************************************************************************\n",
            "                                                                  \n",
            "Unique values in Population are :\n",
            "[' 814,885 ' ' 698,371 ' ' 248,968 ' ' 1,955,130 ' ' 942,908 ' ' 754,233 '\n",
            " ' 1,595,037 ' ' 1,339,155 ' ' 327,225 ' ' 8,405,837 ' ' 1,030,185 '\n",
            " ' 943,999 ' ' 542,085 ' ' 545,776 ' ' 959,307 ' ' 671,238 ' ' 1,177,609 '\n",
            " ' 631,442 ' ' 418,859 ']\n",
            "***************************************************************************\n",
            "                                                                  \n",
            "Unique values in Users are :\n",
            "[' 24,701 ' ' 14,978 ' ' 80,021 ' ' 164,468 ' ' 22,157 ' ' 12,421 '\n",
            " ' 144,132 ' ' 17,675 ' ' 9,270 ' ' 302,149 ' ' 12,994 ' ' 6,133 '\n",
            " ' 3,643 ' ' 7,044 ' ' 69,995 ' ' 25,063 ' ' 27,247 ' ' 5,712 '\n",
            " ' 127,001 ']\n",
            "***************************************************************************\n",
            "                                                                  \n"
          ]
        }
      ]
    },
    {
      "cell_type": "markdown",
      "source": [
        "we don't have anomalies in our dataset"
      ],
      "metadata": {
        "id": "aiseBsq7LPy0"
      }
    },
    {
      "cell_type": "code",
      "source": [
        "# Check for outliers in our dataframe \n",
        "column = ['Age','Income (USD/Month)', 'KM Travelled',\n",
        "        'Price Charged','Cost of Trip']\n",
        "for i in column:\n",
        "  fig = plt.figure(figsize = (10,7))\n",
        "  plt.boxplot(merged[i])\n",
        "  plt.title(i)\n",
        "  plt.show()"
      ],
      "metadata": {
        "colab": {
          "base_uri": "https://localhost:8080/",
          "height": 1000
        },
        "id": "9ZFYucvyLV4f",
        "outputId": "fe355d89-22a5-4ebd-9c0e-b53df1955e54"
      },
      "execution_count": 31,
      "outputs": [
        {
          "output_type": "display_data",
          "data": {
            "text/plain": [
              "<Figure size 720x504 with 1 Axes>"
            ],
            "image/png": "[encoded data removed]"
          },
          "metadata": {
            "needs_background": "light"
          }
        },
        {
          "output_type": "display_data",
          "data": {
            "text/plain": [
              "<Figure size 720x504 with 1 Axes>"
            ],
            "image/png": "[encoded data removed]"
          },
          "metadata": {
            "needs_background": "light"
          }
        },
        {
          "output_type": "display_data",
          "data": {
            "text/plain": [
              "<Figure size 720x504 with 1 Axes>"
            ],
            "image/png": "[encoded data removed]"
          },
          "metadata": {
            "needs_background": "light"
          }
        },
        {
          "output_type": "display_data",
          "data": {
            "text/plain": [
              "<Figure size 720x504 with 1 Axes>"
            ],
            "image/png": "[encoded data removed]"
          },
          "metadata": {
            "needs_background": "light"
          }
        },
        {
          "output_type": "display_data",
          "data": {
            "text/plain": [
              "<Figure size 720x504 with 1 Axes>"
            ],
            "image/png": "[encoded data removed]"
          },
          "metadata": {
            "needs_background": "light"
          }
        }
      ]
    },
    {
      "cell_type": "markdown",
      "source": [
        "We have outliers in the price charge variable but we won't drop as its a representation of real data"
      ],
      "metadata": {
        "id": "FnPhILwn64KX"
      }
    },
    {
      "cell_type": "code",
      "source": [
        "# Pie chart on gender\n",
        "merged['Gender'].value_counts().plot(kind='pie',shadow = True,explode=(0,0.1), colors=['g','y'],figsize=(10,8),autopct='%1.1f%%')\n",
        "plt.title(\"Pie chart of Gender\", y=1.1)\n",
        "plt.show()"
      ],
      "metadata": {
        "colab": {
          "base_uri": "https://localhost:8080/",
          "height": 525
        },
        "id": "rshTXQ2KSjGd",
        "outputId": "94cf1e11-3ca8-4bf8-e8df-a90e43f74a30"
      },
      "execution_count": 23,
      "outputs": [
        {
          "output_type": "display_data",
          "data": {
            "text/plain": [
              "<Figure size 720x576 with 1 Axes>"
            ],
            "image/png": "[encoded data removed]"
          },
          "metadata": {}
        }
      ]
    },
    {
      "cell_type": "markdown",
      "source": [
        "Majority of people who board cabs are male with a percentage of 57.3%"
      ],
      "metadata": {
        "id": "RXZtUlf6S-eR"
      }
    },
    {
      "cell_type": "code",
      "source": [
        "# Pie chart on Company\n",
        "merged['Company'].value_counts().plot(kind='pie',shadow = True,explode=(0,0.1), colors=['yellow','pink'],figsize=(10,8),autopct='%1.1f%%')\n",
        "plt.title(\"Pie chart of Company\", y=1.1)\n",
        "plt.show()"
      ],
      "metadata": {
        "colab": {
          "base_uri": "https://localhost:8080/",
          "height": 525
        },
        "id": "PqAW_b7BS65g",
        "outputId": "7127c269-6bbd-487d-a9db-c79009945358"
      },
      "execution_count": 24,
      "outputs": [
        {
          "output_type": "display_data",
          "data": {
            "text/plain": [
              "<Figure size 720x576 with 1 Axes>"
            ],
            "image/png": "[encoded data removed]"
          },
          "metadata": {}
        }
      ]
    },
    {
      "cell_type": "markdown",
      "source": [
        "The most used cab company is the yellow cab company with 76.4% usage"
      ],
      "metadata": {
        "id": "8X5AQEj4T1ob"
      }
    },
    {
      "cell_type": "code",
      "source": [
        "# Pie chart on Payment_Mode \n",
        "merged['Payment_Mode'].value_counts().plot(kind='pie',shadow = True,explode=(0,0.1), colors=['r','b'],figsize=(10,8),autopct='%1.1f%%')\n",
        "plt.title(\"Pie chart of Payment_Mode\", y=1.1)\n",
        "plt.show()"
      ],
      "metadata": {
        "colab": {
          "base_uri": "https://localhost:8080/",
          "height": 525
        },
        "id": "0PyDBgKVUMZQ",
        "outputId": "3185e687-d75f-4ed0-fa5f-bef5fbf2180d"
      },
      "execution_count": 25,
      "outputs": [
        {
          "output_type": "display_data",
          "data": {
            "text/plain": [
              "<Figure size 720x576 with 1 Axes>"
            ],
            "image/png": "[encoded data removed]"
          },
          "metadata": {}
        }
      ]
    },
    {
      "cell_type": "markdown",
      "source": [
        "Most cab clients pay their trips using cards"
      ],
      "metadata": {
        "id": "WQAK9tC_U_pN"
      }
    },
    {
      "cell_type": "code",
      "source": [
        "merged['City'].value_counts().plot(kind = 'bar')\n",
        "plt.title('Frequency of rides in different cities')\n",
        "plt.ylabel('Count')\n",
        "plt.show()"
      ],
      "metadata": {
        "colab": {
          "base_uri": "https://localhost:8080/",
          "height": 359
        },
        "id": "lRm5IE0YVMmk",
        "outputId": "abcb9194-366e-483b-92dd-367398654fad"
      },
      "execution_count": 32,
      "outputs": [
        {
          "output_type": "display_data",
          "data": {
            "text/plain": [
              "<Figure size 432x288 with 1 Axes>"
            ],
            "image/png": "[encoded data removed]"
          },
          "metadata": {
            "needs_background": "light"
          }
        }
      ]
    },
    {
      "cell_type": "code",
      "source": [
        "# Histogram of our numerical variables\n",
        "for i in column:\n",
        "  plt.figure(figsize = (10,3), dpi=100)\n",
        "  sns.displot(merged[i], kde = True, color = 'lightblue')\n",
        "  plt.title(i, color = 'Black')\n",
        "  plt.show()\n"
      ],
      "metadata": {
        "colab": {
          "base_uri": "https://localhost:8080/",
          "height": 1000
        },
        "id": "FYWTg52i4jyb",
        "outputId": "ac5eee43-0403-44ac-a74c-746638153a79"
      },
      "execution_count": 29,
      "outputs": [
        {
          "output_type": "display_data",
          "data": {
            "text/plain": [
              "<Figure size 1000x300 with 0 Axes>"
            ]
          },
          "metadata": {}
        },
        {
          "output_type": "display_data",
          "data": {
            "text/plain": [
              "<Figure size 360x360 with 1 Axes>"
            ],
            "image/png": "[encoded data removed]"
          },
          "metadata": {
            "needs_background": "light"
          }
        },
        {
          "output_type": "display_data",
          "data": {
            "text/plain": [
              "<Figure size 1000x300 with 0 Axes>"
            ]
          },
          "metadata": {}
        },
        {
          "output_type": "display_data",
          "data": {
            "text/plain": [
              "<Figure size 360x360 with 1 Axes>"
            ],
            "image/png": "[encoded data removed]"
          },
          "metadata": {
            "needs_background": "light"
          }
        },
        {
          "output_type": "display_data",
          "data": {
            "text/plain": [
              "<Figure size 1000x300 with 0 Axes>"
            ]
          },
          "metadata": {}
        },
        {
          "output_type": "display_data",
          "data": {
            "text/plain": [
              "<Figure size 360x360 with 1 Axes>"
            ],
            "image/png": "[encoded data removed]"
          },
          "metadata": {
            "needs_background": "light"
          }
        },
        {
          "output_type": "display_data",
          "data": {
            "text/plain": [
              "<Figure size 1000x300 with 0 Axes>"
            ]
          },
          "metadata": {}
        },
        {
          "output_type": "display_data",
          "data": {
            "text/plain": [
              "<Figure size 360x360 with 1 Axes>"
            ],
            "image/png": "[encoded data removed]"
          },
          "metadata": {
            "needs_background": "light"
          }
        },
        {
          "output_type": "display_data",
          "data": {
            "text/plain": [
              "<Figure size 1000x300 with 0 Axes>"
            ]
          },
          "metadata": {}
        },
        {
          "output_type": "display_data",
          "data": {
            "text/plain": [
              "<Figure size 360x360 with 1 Axes>"
            ],
            "image/png": "[encoded data removed]"
          },
          "metadata": {
            "needs_background": "light"
          }
        },
        {
          "output_type": "display_data",
          "data": {
            "text/plain": [
              "<Figure size 1000x300 with 0 Axes>"
            ]
          },
          "metadata": {}
        },
        {
          "output_type": "display_data",
          "data": {
            "text/plain": [
              "<Figure size 360x360 with 1 Axes>"
            ],
            "image/png": "[encoded data removed]"
          },
          "metadata": {
            "needs_background": "light"
          }
        },
        {
          "output_type": "display_data",
          "data": {
            "text/plain": [
              "<Figure size 1000x300 with 0 Axes>"
            ]
          },
          "metadata": {}
        },
        {
          "output_type": "display_data",
          "data": {
            "text/plain": [
              "<Figure size 360x360 with 1 Axes>"
            ],
            "image/png": "[encoded data removed]"
          },
          "metadata": {
            "needs_background": "light"
          }
        },
        {
          "output_type": "display_data",
          "data": {
            "text/plain": [
              "<Figure size 1000x300 with 0 Axes>"
            ]
          },
          "metadata": {}
        },
        {
          "output_type": "display_data",
          "data": {
            "text/plain": [
              "<Figure size 360x360 with 1 Axes>"
            ],
            "image/png": "[encoded data removed]"
          },
          "metadata": {
            "needs_background": "light"
          }
        }
      ]
    },
    {
      "cell_type": "markdown",
      "source": [
        "Most of our data aren't normally distributed"
      ],
      "metadata": {
        "id": "8Bk3lgRX5Eo8"
      }
    },
    {
      "cell_type": "code",
      "source": [
        "# Checking company against gender\n",
        "\n",
        "import warnings\n",
        "warnings.filterwarnings(\"ignore\")\n",
        "print(merged.groupby('Company').Gender.value_counts())\n",
        "\n",
        "fig = plt.subplots(figsize = (10, 8))\n",
        "sns.countplot('Gender', hue = 'Company', data = merged)\n",
        "plt.title('Company in respect to  Gender')\n",
        "plt.show()"
      ],
      "metadata": {
        "colab": {
          "base_uri": "https://localhost:8080/",
          "height": 623
        },
        "id": "bDK7gGVi5Mv-",
        "outputId": "0ac89d04-da77-46ed-8cd9-36b74581445b"
      },
      "execution_count": 34,
      "outputs": [
        {
          "output_type": "stream",
          "name": "stdout",
          "text": [
            "Company     Gender\n",
            "Pink Cab    Male       47231\n",
            "            Female     37480\n",
            "Yellow Cab  Male      158681\n",
            "            Female    116000\n",
            "Name: Gender, dtype: int64\n"
          ]
        },
        {
          "output_type": "display_data",
          "data": {
            "text/plain": [
              "<Figure size 720x576 with 1 Axes>"
            ],
            "image/png": "[encoded data removed]"
          },
          "metadata": {
            "needs_background": "light"
          }
        }
      ]
    },
    {
      "cell_type": "code",
      "source": [
        "# Checking company against the preferred mode of payment\n",
        "\n",
        "print(merged.groupby('Company').\tPayment_Mode.value_counts())\n",
        "\n",
        "fig = plt.subplots(figsize = (10, 8))\n",
        "sns.countplot('Payment_Mode', hue = 'Company', data = merged)\n",
        "plt.title('Company in respect to Mode of payment')\n",
        "plt.show()"
      ],
      "metadata": {
        "colab": {
          "base_uri": "https://localhost:8080/",
          "height": 624
        },
        "id": "gpqrlhY08np4",
        "outputId": "92c83f51-0e46-457c-a40c-20ade0967b0d"
      },
      "execution_count": 36,
      "outputs": [
        {
          "output_type": "stream",
          "name": "stdout",
          "text": [
            "Company     Payment_Mode\n",
            "Pink Cab    Card             50719\n",
            "            Cash             33992\n",
            "Yellow Cab  Card            164785\n",
            "            Cash            109896\n",
            "Name: Payment_Mode, dtype: int64\n"
          ]
        },
        {
          "output_type": "display_data",
          "data": {
            "text/plain": [
              "<Figure size 720x576 with 1 Axes>"
            ],
            "image/png": "[encoded data removed]"
          },
          "metadata": {
            "needs_background": "light"
          }
        }
      ]
    }
  ]
}